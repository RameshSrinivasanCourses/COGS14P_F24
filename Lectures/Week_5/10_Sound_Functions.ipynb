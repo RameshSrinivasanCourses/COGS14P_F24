{
 "cells": [
  {
   "cell_type": "markdown",
   "metadata": {},
   "source": [
    "# Lecture: Building a Module with Good, Documented Functions.  "
   ]
  },
  {
   "cell_type": "code",
   "execution_count": 1,
   "metadata": {},
   "outputs": [],
   "source": [
    "import numpy as np \n",
    "from numpy import random \n",
    "import sounddevice as sd\n",
    "import warnings #This is a new module you have not seen before \n",
    "from matplotlib import pyplot as plt\n",
    "rng = random.default_rng(seed = 1111)"
   ]
  },
  {
   "cell_type": "code",
   "execution_count": 2,
   "metadata": {},
   "outputs": [],
   "source": [
    "def pop_scales():\n",
    "    ''' pop_scales()\n",
    "        This function returns a dictionary containing the major scale in the 1st octave \n",
    "        returns:     notes           '''\n",
    "    notes = dict()\n",
    "    notes = {'A':440,'Bb':466,'B':494,'C':523,'C#':554,'D':587,'Eb':622,'F':659,'F#':698,'G':740,'Ab':831}\n",
    "    notes['names'] = list(notes.keys())\n",
    "    notes['frequencies'] = list(notes.values())\n",
    "    return notes"
   ]
  },
  {
   "cell_type": "markdown",
   "metadata": {},
   "source": [
    "- Always test your code "
   ]
  },
  {
   "cell_type": "code",
   "execution_count": null,
   "metadata": {},
   "outputs": [],
   "source": [
    "notes = pop_scales()\n",
    "print(notes.keys())\n",
    "print(notes['Bb'])"
   ]
  },
  {
   "cell_type": "code",
   "execution_count": 4,
   "metadata": {},
   "outputs": [],
   "source": [
    "def make_tone(frequency,duration,samplingrate=44100):\n",
    "    ''' make_tone returns a pure tone \n",
    "        args:       frequency - frequency of the tone in hz\n",
    "                    duration - duration of the tone in seconds \n",
    "        optional:   samplingrate - samplingrate in units of hz\n",
    "                    default is 44100 \n",
    "        returns:    tone   '''\n",
    "    time = np.linspace(0, duration, int(duration*samplingrate)) \n",
    "    # The number of samples is the length of time X sampling rate. \n",
    "    tone = np.sin(frequency * time  * 2 * np.pi)\n",
    "    return tone  \n"
   ]
  },
  {
   "cell_type": "markdown",
   "metadata": {},
   "source": [
    "- Test code "
   ]
  },
  {
   "cell_type": "code",
   "execution_count": 5,
   "metadata": {},
   "outputs": [],
   "source": [
    "frequency = notes['F#']\n",
    "duration = 1\n",
    "tone = make_tone(frequency,duration) \n"
   ]
  },
  {
   "cell_type": "code",
   "execution_count": null,
   "metadata": {},
   "outputs": [],
   "source": [
    "fig = plt.figure()\n",
    "ax = fig.add_axes([0,0,1,1])\n",
    "ax.plot(tone[0:441])\n",
    "ax.set_xlabel('Time(sec)',fontsize=16)\n",
    "ax.set_ylabel('Amplitude',fontsize=16)\n",
    "plt.show()"
   ]
  },
  {
   "cell_type": "code",
   "execution_count": 7,
   "metadata": {},
   "outputs": [],
   "source": [
    "def play_sound(sample,volume = 0.05,samplingrate = 44100,block = True):\n",
    "    ''' play_sound will apply a volume to a sound sample, and send it to the sound card to play\n",
    "        warning: for safety reasons, this function limits output to 0.25 of the sound card range. \n",
    "        args:       sample -    numpy array to be played by the sound card\n",
    "        optional:   volume -    in range 0 to 0.25 to scale the sound, default to 0.05. \n",
    "                                in case of volume > 0.25, returns to default value\n",
    "                    samplingrate = sampling rate in hz, defaults to 44100\n",
    "                    block = True or False. flag to block card while sound plays, default is True'''\n",
    "    if volume > 0.25:\n",
    "        warnings.warn('volume cannot be larger than 0.25, reset to 0.05')\n",
    "        volume = 0.05\n",
    "    if np.max(np.abs(sample)) > 0: #tests for a sample of zeros (silence) \n",
    "        sample  = volume*sample/np.max(np.abs(sample)) \n",
    "    sample = 32768*sample # scale to the range of the sound card.\n",
    "    sample  = sample.astype(np.int16) # convert to 16 bit integers. \n",
    "    sd.play(sample, samplingrate, blocking=block) \n"
   ]
  },
  {
   "cell_type": "code",
   "execution_count": 8,
   "metadata": {},
   "outputs": [],
   "source": [
    "frequency = notes['Bb']\n",
    "duration = 0.4\n",
    "tone = make_tone(frequency,duration)\n",
    "play_sound(tone) "
   ]
  },
  {
   "cell_type": "code",
   "execution_count": 9,
   "metadata": {},
   "outputs": [],
   "source": [
    "frequency = notes['Bb']\n",
    "duration = 0.4\n",
    "tone = make_tone(frequency,duration)\n",
    "play_sound(tone, volume = 0.2) "
   ]
  },
  {
   "cell_type": "code",
   "execution_count": null,
   "metadata": {},
   "outputs": [],
   "source": [
    "frequency = notes['Ab']\n",
    "duration = 0.4\n",
    "tone = make_tone(frequency,duration)\n",
    "play_sound(tone, volume = 0.3)"
   ]
  }
 ],
 "metadata": {
  "kernelspec": {
   "display_name": "base",
   "language": "python",
   "name": "python3"
  },
  "language_info": {
   "codemirror_mode": {
    "name": "ipython",
    "version": 3
   },
   "file_extension": ".py",
   "mimetype": "text/x-python",
   "name": "python",
   "nbconvert_exporter": "python",
   "pygments_lexer": "ipython3",
   "version": "3.12.4"
  }
 },
 "nbformat": 4,
 "nbformat_minor": 2
}
