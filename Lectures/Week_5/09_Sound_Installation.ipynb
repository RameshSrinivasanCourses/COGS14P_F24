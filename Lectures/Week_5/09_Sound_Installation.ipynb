{
 "cells": [
  {
   "cell_type": "markdown",
   "metadata": {},
   "source": [
    "# Sound Installation and Testing"
   ]
  },
  {
   "cell_type": "markdown",
   "metadata": {},
   "source": [
    "### `sounddevice` module\n",
    "\n",
    "In this section we will learn how make use of python to deliver an auditory stimulus using the \n",
    "`sounddevice` module.  \n",
    "\n",
    "To install sounddevice, open either a Terminal (mac) or PowerShell prompt from Anaconda Navigator (windows).\n",
    "\n",
    "Be sure you see the term (base) to the left of the prompt, then type \n",
    "\n",
    "    pip install sounddevice \n",
    "\n",
    "`pip` is a package manager for external python modules (those not managed by Anaconda).  \n",
    "\n",
    "### **SHOULD YOU HAVE ISSUES WITH INSTALLATION** \n",
    "Contact me or one of the readers! "
   ]
  },
  {
   "cell_type": "code",
   "execution_count": 1,
   "metadata": {},
   "outputs": [],
   "source": [
    "import numpy as np \n",
    "import sounddevice as sd\n",
    "import warnings #This is a new module you have not seen before \n"
   ]
  },
  {
   "cell_type": "markdown",
   "metadata": {},
   "source": [
    "In Fridays class we will build these functions. "
   ]
  },
  {
   "cell_type": "code",
   "execution_count": 2,
   "metadata": {},
   "outputs": [],
   "source": [
    "def pop_scales():\n",
    "    ''' pop_scales()\n",
    "        This function returns a dictionary containing the major scale in the 1st octave \n",
    "        returns:     notes           '''\n",
    "    notes = dict()\n",
    "    notes = {'A':440,'Bb':466,'B':494,'C':523,'C#':554,'D':587,'Eb':622,'F':659,'F#':698,'G':740,'Ab':831}\n",
    "    notes['names'] = list(notes.keys())\n",
    "    notes['frequencies'] = list(notes.values())\n",
    "    return notes"
   ]
  },
  {
   "cell_type": "code",
   "execution_count": 4,
   "metadata": {},
   "outputs": [],
   "source": [
    "def make_tone(frequency,duration,samplingrate=44100):\n",
    "    ''' make_tone returns a pure tone \n",
    "        args:       frequency - frequency of the tone in hz\n",
    "                    duration - duration of the tone in seconds \n",
    "        optional:   samplingrate - samplingrate in units of hz\n",
    "                    default is 44100 \n",
    "        returns:    tone   '''\n",
    "    time = np.linspace(0, duration, int(duration*samplingrate)) \n",
    "    # The number of samples is the length of time X sampling rate. \n",
    "    tone = np.sin(frequency * time  * 2 * np.pi)\n",
    "    return tone  "
   ]
  },
  {
   "cell_type": "code",
   "execution_count": 6,
   "metadata": {},
   "outputs": [],
   "source": [
    "def play_sound(sample,volume = 0.05,samplingrate = 44100,block = True):\n",
    "    ''' play_sound will apply a volume to a sound sample, and send it to the sound card to play\n",
    "        warning: for safety reasons, this function limits output to 0.25 of the sound card range. \n",
    "        args:       sample -    numpy array to be played by the sound card\n",
    "        optional:   volume -    in range 0 to 0.25 to scale the sound, default to 0.05. \n",
    "                                in case of volume > 0.25, returns to default value\n",
    "                    samplingrate = sampling rate in hz, defaults to 44100\n",
    "                    block = True or False. flag to block card while sound plays, default is True'''\n",
    "    if volume > 0.25:\n",
    "        warnings.warn('volume cannot be larger than 0.25, reset to 0.05')\n",
    "        volume = 0.05\n",
    "    sample  = volume*sample/np.max(np.abs(sample)) # FOR SAFETY.  PLEASE LIMIT THE MAXIMIM VOLUME!   \n",
    "    sample = 32768*sample # scale to the range of the sound card.\n",
    "    sample  = sample.astype(np.int16) # convert to 16 bit integers. \n",
    "    sd.play(sample, samplingrate, blocking=block) "
   ]
  },
  {
   "cell_type": "markdown",
   "metadata": {},
   "source": [
    "Lets test this and make sure it works "
   ]
  },
  {
   "cell_type": "code",
   "execution_count": 11,
   "metadata": {},
   "outputs": [
    {
     "name": "stderr",
     "output_type": "stream",
     "text": [
      "/tmp/ipykernel_8527/583516256.py:10: UserWarning: volume cannot be larger than 0.25, reset to 0.05\n",
      "  warnings.warn('volume cannot be larger than 0.25, reset to 0.05')\n"
     ]
    }
   ],
   "source": [
    "notes = pop_scales()\n",
    "frequency = notes['Bb']\n",
    "duration = 0.4\n",
    "tone = make_tone(frequency,duration)\n",
    "play_sound(tone,volume = 0.4) "
   ]
  },
  {
   "cell_type": "code",
   "execution_count": null,
   "metadata": {},
   "outputs": [],
   "source": []
  }
 ],
 "metadata": {
  "kernelspec": {
   "display_name": "base",
   "language": "python",
   "name": "python3"
  },
  "language_info": {
   "codemirror_mode": {
    "name": "ipython",
    "version": 3
   },
   "file_extension": ".py",
   "mimetype": "text/x-python",
   "name": "python",
   "nbconvert_exporter": "python",
   "pygments_lexer": "ipython3",
   "version": "3.12.4"
  }
 },
 "nbformat": 4,
 "nbformat_minor": 2
}
