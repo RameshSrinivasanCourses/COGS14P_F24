{
 "cells": [
  {
   "cell_type": "markdown",
   "metadata": {
    "slideshow": {
     "slide_type": "slide"
    },
    "tags": []
   },
   "source": [
    "# **Lecture 5:** Visualization\n",
    "\n",
    "### This Lecture will introduce the module `matplotlib`\n",
    "### We will use `matplotlib` for visualization of data \n",
    "  "
   ]
  },
  {
   "cell_type": "markdown",
   "metadata": {
    "slideshow": {
     "slide_type": "slide"
    },
    "tags": []
   },
   "source": [
    "### Data Visualization \n",
    "\n",
    "* The `matplotlib` **module** is used the basic module for data visualization using Python. \n",
    "* Other more sophisticated (prettier!) modules have been developed, \n",
    "    - `seaborn`, https://seaborn.pydata.org/ (statistical visualization) \n",
    "    - `plotly`, https://plotly.com/python/ (interactive and 3D)\n",
    "but these are always built on top of `matplotlib` and consistent with its framework\n",
    "* In fact, the seaborn documentation explicitly recommends you understand how `matplotlib` works to get the most out of seaborn.  \n"
   ]
  },
  {
   "cell_type": "markdown",
   "metadata": {
    "slideshow": {
     "slide_type": "slide"
    },
    "tags": []
   },
   "source": [
    "### `pyplot` submodule\n",
    "\n",
    "* The vast majority of the data visualization make use of a single submodule called `pyplot` \n"
   ]
  },
  {
   "cell_type": "code",
   "execution_count": 23,
   "metadata": {
    "slideshow": {
     "slide_type": "fragment"
    },
    "tags": []
   },
   "outputs": [],
   "source": [
    "# The line below imports the pyplot submodule of matplotlib \n",
    "# and gives it the short name plt\n",
    "from matplotlib import pyplot as plt\n",
    "### And as always, I'm going to import numpy\n",
    "import numpy as np"
   ]
  },
  {
   "cell_type": "code",
   "execution_count": 24,
   "metadata": {
    "slideshow": {
     "slide_type": "fragment"
    },
    "tags": []
   },
   "outputs": [],
   "source": [
    "# For the sake of todays exercise, I am going to make a sine and a cosine function \n",
    "# If you pull up the documentation on numpy, you will find the functions and figure out how to call them.  \n",
    "angle = np.linspace(0,2*np.pi,100) #I make 100 evenly spaced values going from 0 to 2*pi\n",
    "C = np.cos(angle) #cosine function \n",
    "S = np.sin(angle) #sine function"
   ]
  },
  {
   "cell_type": "markdown",
   "metadata": {
    "slideshow": {
     "slide_type": "slide"
    },
    "tags": []
   },
   "source": [
    "## Simple Line Plots\n",
    "* Perhaps not so surprisingly, the simplest command to make a plot in `pyplot` is called `plot`.  "
   ]
  },
  {
   "cell_type": "code",
   "execution_count": null,
   "metadata": {
    "slideshow": {
     "slide_type": "slide"
    },
    "tags": []
   },
   "outputs": [],
   "source": [
    "plt.plot(S) #This plots the array S and implicitly makes the x axis the index into the array \n",
    "plt.show() #this makes a clean display of the plot without any code. "
   ]
  },
  {
   "cell_type": "code",
   "execution_count": null,
   "metadata": {
    "slideshow": {
     "slide_type": "slide"
    },
    "tags": []
   },
   "outputs": [],
   "source": [
    "plt.plot(angle,S) # when making plot, the two inputs are x and y.  \n",
    "plt.show() # this makes a clean display of the plot without any code.   "
   ]
  },
  {
   "cell_type": "markdown",
   "metadata": {
    "slideshow": {
     "slide_type": "slide"
    },
    "tags": []
   },
   "source": [
    "* `plot` is the simplest, easiest way to invoke a plot in python.  And when you just want a quick plot, this is the way to do it. I do it all the time! \n",
    "* However, when you want to make a high quality plot, you want to make use of a different **\"modern\"** interface to pyplot, which is how the documentation is written.    \n",
    "* Today's lesson will make use of that interface which is often referred to as the **object oriented** interface.  "
   ]
  },
  {
   "cell_type": "markdown",
   "metadata": {
    "slideshow": {
     "slide_type": "slide"
    },
    "tags": []
   },
   "source": [
    "### Object-oriented Interface to `pyplot`\n",
    "\n",
    "1. We create a figure *object* named **fig**.  This object has properties which control the figure as a whole\n",
    "2. We create an axes *object* named **ax**.  This object has properties which control the axis of a specific plot. \n",
    "3. We add a plot to the axes **ax**  \n",
    "\n",
    "* When we use `plot` we are in fact invoking a figure and an axes, then adding a plot.  But, by using `plot` we are making use of the default values. \n",
    "* Our objective here is to make pretty plots.  Because the scientist who makes the prettiest plot gets **$$$**.  "
   ]
  },
  {
   "cell_type": "code",
   "execution_count": null,
   "metadata": {
    "slideshow": {
     "slide_type": "slide"
    },
    "tags": []
   },
   "outputs": [],
   "source": [
    "#object-oriented interface\n",
    "fig = plt.figure(figsize = (4,3))   #creates a blank canvas of size (4,3)\n",
    "#The two size dimension work as width, height \n",
    "ax = fig.add_axes([0,0,1,1]) #creates an axes \n",
    "# (starting pt x, starting pt y, fractional size x, fractional size y)\n",
    "ax.plot(angle,S) #add a plot to the axes.  \n",
    "plt.show()"
   ]
  },
  {
   "cell_type": "markdown",
   "metadata": {
    "slideshow": {
     "slide_type": "slide"
    },
    "tags": []
   },
   "source": [
    "\n",
    "* We can add a second line to the same plot, by calling plot again. "
   ]
  },
  {
   "cell_type": "code",
   "execution_count": null,
   "metadata": {
    "slideshow": {
     "slide_type": "fragment"
    },
    "tags": []
   },
   "outputs": [],
   "source": [
    "fig = plt.figure(figsize = (4,3))   #creates a blank canvas \n",
    "ax = fig.add_axes([0,0,1,1]) #creates an axes \n",
    "# - (starting pt x, starting pt y, fractional size x, fractional size y)\n",
    "ax.plot(angle,S) #add a plot to the axes.  \n",
    "ax.plot(angle,C) #add a plot to the axes.  \n",
    "plt.show()"
   ]
  },
  {
   "cell_type": "markdown",
   "metadata": {
    "slideshow": {
     "slide_type": "slide"
    },
    "tags": []
   },
   "source": [
    "### Labeling the plot. \n",
    "\n",
    "* What's wrong with that plot?   Its missing information to be able to interpret the plot.  \n",
    "\n",
    "1. Axes labels  - What is the x axis, what is the y axis? \n",
    "2. Line labels  - which one is sine, and which one is cosine? \n",
    "3. Title (optional) - maybe I need a title. "
   ]
  },
  {
   "cell_type": "code",
   "execution_count": null,
   "metadata": {
    "slideshow": {
     "slide_type": "slide"
    },
    "tags": []
   },
   "outputs": [],
   "source": [
    "fig = plt.figure(figsize = (4,3))   #creates a blank canvas \n",
    "ax = fig.add_axes([0,0,1,1]) #creates an axes \n",
    "# - (starting pt x, starting pt y, fractional size x, fractional size y)\n",
    "ax.plot(angle,S,label ='sine')  #add a plot to the axes.\n",
    "                                #I also gave the line a label. \n",
    "ax.plot(angle,C,label = 'cosine' ) #add a plot to the axes.\n",
    "                                #I also gave the line a label.  \n",
    "ax.set_xlabel('Angle(radians)') #I added a x axis label \n",
    "ax.set_ylabel('Function value') #I added a y axis label\n",
    "ax.legend() #I gave the figure a legend.  \n",
    "ax.set_title('Trignometric Functions') # Let's give the figure a title.                              \n",
    "plt.show() "
   ]
  },
  {
   "cell_type": "markdown",
   "metadata": {
    "slideshow": {
     "slide_type": "slide"
    },
    "tags": []
   },
   "source": [
    "### Improving the communication of plots  \n",
    "* One might argue that we are done now, and all necessary information to understand the plot is given, but it still *sucks*. \n",
    "* **Why?**  \n",
    "1. Units \n",
    "2. Readability\n",
    "3. Aesthetics"
   ]
  },
  {
   "cell_type": "markdown",
   "metadata": {
    "slideshow": {
     "slide_type": "slide"
    },
    "tags": []
   },
   "source": [
    "### **Units** should mean something to people\n",
    "* Here I make 2 equivalent version of the angle variables, one in degrees and the other in radians.  \n",
    "* I will use the version in *radians* to **compute** sine and cosine, but i will use the one in *degrees* to make the **plot**. "
   ]
  },
  {
   "cell_type": "code",
   "execution_count": 30,
   "metadata": {
    "slideshow": {
     "slide_type": "fragment"
    },
    "tags": []
   },
   "outputs": [],
   "source": [
    "angle_in_degrees = np.arange(0,360,1) # note here that because i used arange \n",
    "                        #i do not include 360. I made step size 1 degree. \n",
    "angle = angle_in_degrees*np.pi/180 # since 180 degrees is  equal to pi\n",
    "C = np.cos(angle) #cosine function \n",
    "S = np.sin(angle) #sine function"
   ]
  },
  {
   "cell_type": "code",
   "execution_count": null,
   "metadata": {
    "slideshow": {
     "slide_type": "slide"
    },
    "tags": []
   },
   "outputs": [],
   "source": [
    "fig = plt.figure(figsize = (4,3))   #creates a blank canvas \n",
    "ax = fig.add_axes([0,0,1,1]) #creates an axes \n",
    "# - (starting pt x, starting pt y, fractional size x, fractional size y)\n",
    "ax.plot(angle_in_degrees,S,label ='sine')  #add a plot to the axes.\n",
    "                                #I also gave the line a label. \n",
    "ax.plot(angle_in_degrees,C,label = 'cosine' ) #add a plot to the axes.\n",
    "                                #I also gave the line a label.  \n",
    "ax.set_xlabel('Angle(Degrees)') #I added a x axis label \n",
    "ax.set_ylabel('Function value') #I added a y axis label\n",
    "ax.legend() #I gave the figure a legend.  \n",
    "ax.set_title('Trignometric Functions') # Let's give the figure a title.                              \n",
    "plt.show() "
   ]
  },
  {
   "cell_type": "markdown",
   "metadata": {
    "slideshow": {
     "slide_type": "slide"
    },
    "tags": []
   },
   "source": [
    "### **Reading Graphs**  \n",
    "* When I look at a plot, I want to be able to *easily read out features of the data*.  \n",
    "* I also want to be able to easily understand the domain and range of the the data and find the minimum and maximum.  \n",
    "* Here the domain is 0 to 360 and the range is -1 to 1. \n",
    "* The features of the data are clear maxima and minima at function values -1 and 1 of the curves plotted but its not that easy to read out at values of angle at which the maxima occur.  \n",
    "* The solution is to take control of the x and/or y axis values."
   ]
  },
  {
   "cell_type": "code",
   "execution_count": null,
   "metadata": {
    "slideshow": {
     "slide_type": "slide"
    },
    "tags": []
   },
   "outputs": [],
   "source": [
    "fig = plt.figure(figsize = (4,3))   #creates a blank canvas \n",
    "ax = fig.add_axes([0,0,1,1]) #creates an axes \n",
    "#- (starting pt x, starting pt y, fractional size x, fractional size y)\n",
    "ax.plot(angle_in_degrees,S,label ='sine')  #add a plot to the axes.\n",
    "                                #I also gave the line a label. \n",
    "ax.plot(angle_in_degrees,C,label = 'cosine' ) #add a plot to the axes.\n",
    "                                #I also gave the line a label.  \n",
    "ax.set_xlabel('Angle(Degrees)') #I added a x axis label \n",
    "ax.set_ylabel('Function value') #I added a y axis label\n",
    "ax.legend() #I gave the figure a legend.  \n",
    "ax.set_title('Trignometric Functions') # Let's give the figure a title. \n",
    "xticklocations = np.linspace(0,360,9) # I am going to determine to have 9 ticks \n",
    "                                    #on the x axis between 0 and 360(inclusive)\n",
    "ax.set_xticks(xticklocations)\n",
    "yticklocations = np.linspace(-1,1,11) # I am going to determine to have 11 ticks \n",
    "                                #on the y axis between -1 and 1(inclusive)\n",
    "ax.set_yticks(yticklocations)  \n",
    "plt.show()"
   ]
  },
  {
   "cell_type": "markdown",
   "metadata": {
    "slideshow": {
     "slide_type": "fragment"
    },
    "tags": []
   },
   "source": [
    "* **OK I'm feeling better**  But, a plot can always be improved. "
   ]
  },
  {
   "cell_type": "code",
   "execution_count": null,
   "metadata": {
    "slideshow": {
     "slide_type": "slide"
    },
    "tags": []
   },
   "outputs": [],
   "source": [
    "fig = plt.figure(figsize = (4,3))   #creates a blank canvas \n",
    "ax = fig.add_axes([0,0,1,1]) #creates an axes \n",
    "#- (starting pt x, starting pt y, fractional size x, fractional size y)\n",
    "ax.plot(angle_in_degrees,S,label ='sine')  #add a plot to the axes.\n",
    "                                #I also gave the line a label. \n",
    "ax.plot(angle_in_degrees,C,label = 'cosine' ) #add a plot to the axes.\n",
    "                                #I also gave the line a label.  \n",
    "ax.set_xlabel('Angle(Degrees)') #I added a x axis label \n",
    "ax.set_ylabel('Function value') #I added a y axis label\n",
    "ax.legend() #I gave the figure a legend.  \n",
    "ax.set_title('Trignometric Functions') # Let's give the figure a title. \n",
    "xticklocations = np.linspace(0,360,9) # I am going to determine to have 9 ticks \n",
    "                                #on the x axis between 0 and 360(inclusive)\n",
    "ax.set_xticks(xticklocations)\n",
    "yticklocations = np.linspace(-1,1,11) # I am going to determine to have 11 ticks \n",
    "                                    #on the y axis between -1 and 1(inclusive)\n",
    "ax.set_yticks(yticklocations)\n",
    "plt.grid(True)  #Here I turned on grid lines, to improve readability.  \n",
    "plt.show()"
   ]
  },
  {
   "cell_type": "markdown",
   "metadata": {
    "slideshow": {
     "slide_type": "slide"
    }
   },
   "source": [
    "### Controlling Line Style and Color and Width and/or Marker Type and Color and Size\n",
    "\n",
    "####  There is a lot of control available here.  \n",
    "\n",
    "### Colors - \n",
    "* blue - 'b',\n",
    "* green - 'g',\n",
    "* red - 'r',\n",
    "* cyan - 'c',\n",
    "* magenta - 'm',\n",
    "* yellow - 'y',\n",
    "* black - 'k',\n",
    "* white - w' \n",
    "\n",
    "### Line styles \n",
    "\n",
    "* '-' solid line \n",
    "* '--' dahsed line\n",
    "* '-.\" dash dot line\n",
    "* ':'  dotted line <br>\n",
    "\n",
    "### Line width\n",
    "\n",
    "### `linewidth = 2`\n",
    "\n",
    "### Marker shapes \n",
    "* '.'- point\n",
    "* 'o' - circle\n",
    "* 'x' - x marker \n",
    "* 'D' = diamond marker\n",
    "* 'H' - hexagon marker \n",
    "* 's' - square marker\n",
    "* '+' plus marker \n",
    "\n",
    "### Marker size\n",
    "\n",
    "* `markersize = 12`"
   ]
  },
  {
   "cell_type": "code",
   "execution_count": null,
   "metadata": {
    "slideshow": {
     "slide_type": "slide"
    },
    "tags": []
   },
   "outputs": [],
   "source": [
    "fig = plt.figure(figsize = (4,3))   #creates a blank canvas, figsize should be set to a tuple () \n",
    "ax = fig.add_axes([0,0,1,1]) #creates an axes \n",
    "# - (starting pt x, starting pt y, fractional size x, fractional size y)\n",
    "ax.plot(angle_in_degrees,S,'r-', linewidth = 2, label ='sine')  #add a plot to the axes.\n",
    "                                #I also gave the line a label.\n",
    "                                # I selected the color red and a solid line\n",
    "                                # I set the linewidth to 2, default is 1.   \n",
    "ax.plot(angle_in_degrees,C,'g--', linewidth = 2, label = 'cosine' ) #add a plot to the axes.\n",
    "                                #I also gave the line a label.  \n",
    "                                # I selected the color green and a dashed line\n",
    "                                # I set the linewidth to 2, default is 1.  \n",
    "ax.set_xlabel('Angle(Degrees)') #I added a x axis label \n",
    "ax.set_ylabel('Function value') #I added a y axis label\n",
    "ax.legend() #I gave the figure a legend.  \n",
    "ax.set_title('Trignometric Functions') # Let's give the figure a title. \n",
    "xticklocations = np.linspace(0,360,13) # I am going to determine to have 13 ticks\n",
    "                                    #on the x axis between 0 and 360(inclusive)\n",
    "ax.set_xticks(xticklocations)\n",
    "yticklocations = np.linspace(-1,1,11) # I am going to determine to have 11 ticks \n",
    "                                    #on the y axis between -1 and 1(inclusive)\n",
    "ax.set_yticks(yticklocations)\n",
    "plt.grid(True)  #Here I turned on grid lines, to improve readability.  \n",
    "plt.show()"
   ]
  },
  {
   "cell_type": "markdown",
   "metadata": {
    "slideshow": {
     "slide_type": "slide"
    },
    "tags": []
   },
   "source": [
    "## Bar plots\n",
    "Here I am going to make an example of a bar plot.  "
   ]
  },
  {
   "cell_type": "code",
   "execution_count": 35,
   "metadata": {
    "slideshow": {
     "slide_type": "fragment"
    },
    "tags": []
   },
   "outputs": [],
   "source": [
    "fruitnames = ['mangos','pears','plums','apples'] #This is a list\n",
    "fruitnumber = np.array([2,4,6,1]) #I converted a list of fruit counts into a numpy array. Actually not needed."
   ]
  },
  {
   "cell_type": "code",
   "execution_count": null,
   "metadata": {
    "slideshow": {
     "slide_type": "slide"
    },
    "tags": []
   },
   "outputs": [],
   "source": [
    "fig = plt.figure(figsize = (4,3) )   #creates a blank canvas \n",
    "ax = fig.add_axes([0,0,1,1]) #creates an axes - (starting pt x, starting pt y, fractional size x, fractional size y)\n",
    "ax.plot(fruitnames,fruitnumber)\n",
    "ax.set_xlabel('Fruit')\n",
    "ax.set_ylabel('Number')\n",
    "plt.show()"
   ]
  },
  {
   "cell_type": "markdown",
   "metadata": {},
   "source": [
    "We need a bar plot. "
   ]
  },
  {
   "cell_type": "code",
   "execution_count": null,
   "metadata": {
    "slideshow": {
     "slide_type": "slide"
    },
    "tags": []
   },
   "outputs": [],
   "source": [
    "fig = plt.figure(figsize = (4,3))   #creates a blank canvas \n",
    "ax = fig.add_axes([0,0,1,1]) #creates an axes \n",
    "ax.bar(fruitnames,fruitnumber) #\n",
    "ax.set_xlabel('Fruit')\n",
    "ax.set_ylabel('Number')\n",
    "ax.grid(True,axis='y') #I added a grid and specified it \n",
    "                #should only be for the y axis \n",
    "plt.show()"
   ]
  },
  {
   "cell_type": "code",
   "execution_count": null,
   "metadata": {
    "slideshow": {
     "slide_type": "slide"
    },
    "tags": []
   },
   "outputs": [],
   "source": [
    "fig = plt.figure(figsize = (4,3))   #creates a blank canvas \n",
    "ax = fig.add_axes([0,0,1,1]) #creates an axes \n",
    "ax.bar(fruitnames,fruitnumber) #\n",
    "ax.set_xlabel('Fruit')\n",
    "ax.set_ylabel('Number')\n",
    "ax.grid(True,axis='y',color='r')#I added a grid and specified it \n",
    "                #should only be for the y axis and set its color to red\n",
    "plt.show()"
   ]
  },
  {
   "cell_type": "markdown",
   "metadata": {
    "slideshow": {
     "slide_type": "slide"
    },
    "tags": []
   },
   "source": [
    "## Subplot\n",
    "* Sometimes we want to put more than one graph in a figure.  In this case, we can divide the figure into multiple plots. \n",
    "* The syntax `subplots(n,m)`  when I create the figure tells python I want a figure with with n row and m columns each of which can contain a separate **axis**\n"
   ]
  },
  {
   "cell_type": "code",
   "execution_count": 39,
   "metadata": {
    "slideshow": {
     "slide_type": "fragment"
    },
    "tags": []
   },
   "outputs": [],
   "source": [
    "#Create some data for four plots\n",
    "x = np.arange(1,10,0.25) \n",
    "y1 = x**2   \n",
    "y2 = np.sqrt(x)\n",
    "y3 = np.exp(x)\n",
    "y4 = np.log(x) # for the record this is a natural log or ln, \n",
    "               #base 10 logarithm is log10, and base 2 logarithm is log2"
   ]
  },
  {
   "cell_type": "code",
   "execution_count": null,
   "metadata": {
    "slideshow": {
     "slide_type": "slide"
    },
    "tags": []
   },
   "outputs": [],
   "source": [
    "fig,a = plt.subplots(2,2,figsize =(5,5))  #Here i create both the figure (fig) and the axes (a) in a single step.  \n",
    "                           #Any options that you would send into the figure call, you can send to subplots.  \n",
    "                           # I've asked for 4 subplots in a 2 x 2 grid.   \n",
    "\n",
    "a[0][0].plot(x,y1)   #notice the syntax in dealing with the axis. The axes have a row index and a column index. \n",
    "a[0][0].set_title('square')\n",
    "a[0][1].plot(x,y2)\n",
    "a[0][1].set_title('square root')\n",
    "a[1][0].plot(x,y3)\n",
    "a[1][0].set_title('exponential')\n",
    "a[1][1].plot(x,y4)\n",
    "a[1][1].set_title('log')\n",
    "fig.tight_layout()  \n",
    "#this is really cool and fixes problems with overlapping text and figures \n",
    "plt.show()"
   ]
  },
  {
   "cell_type": "code",
   "execution_count": null,
   "metadata": {
    "slideshow": {
     "slide_type": "slide"
    }
   },
   "outputs": [],
   "source": [
    "fig,a = plt.subplots(2,2, figsize = (5,5))  \n",
    "#note that all of the options in the figure command can be used here. \n",
    "#I made a square figure window, because doing so made all my plots into nice squares.  \n",
    "a[0][0].plot(x,y1,'r-')\n",
    "a[0][0].set_title('square')\n",
    "a[0][1].plot(x,y2,'b-.')\n",
    "a[0][1].set_title('square root')\n",
    "a[1][0].plot(x,y3,'g--')\n",
    "a[1][0].set_title('exponential')\n",
    "a[1][1].plot(x,y4,'k.')\n",
    "a[1][1].set_title('log')\n",
    "plt.tight_layout()\n",
    "plt.show()"
   ]
  },
  {
   "cell_type": "code",
   "execution_count": null,
   "metadata": {
    "slideshow": {
     "slide_type": "slide"
    }
   },
   "outputs": [],
   "source": [
    "fig=plt.figure(figsize = (3,4))\n",
    "axes1 = fig.add_axes([0.1, 0.1, 0.8, 0.8]) # main axes\n",
    "axes2 = fig.add_axes([0.3, 0.35, 0.3, 0.4]) # inset axes\n",
    "axes1.plot(x,y3, 'b-')\n",
    "axes2.plot(x,y4,'r-')\n",
    "axes1.set_title('exponential', fontsize = 13)\n",
    "axes1.set_xlabel('x', fontsize = 11)\n",
    "axes1.set_ylabel('y', fontsize = 11)\n",
    "axes2.set_title(\"log\", fontsize = 12)\n",
    "axes2.set_xlabel('x', fontsize = 10)\n",
    "axes2.set_ylabel('y',fontsize = 10)\n",
    "plt.show()"
   ]
  },
  {
   "cell_type": "markdown",
   "metadata": {
    "slideshow": {
     "slide_type": "slide"
    }
   },
   "source": [
    "### Logarithmic Scales \n",
    "\n",
    "* **THIS MAY BE THE MOST IMPORTANT PART OF THE TUTORIAL!**\n",
    "* By default the plots we make are on linear scales. But many times, the data can be better understood on a *logarithmic* scale.  \n",
    "\n"
   ]
  },
  {
   "cell_type": "code",
   "execution_count": null,
   "metadata": {
    "slideshow": {
     "slide_type": "slide"
    }
   },
   "outputs": [],
   "source": [
    "# Logarithmic scale \n",
    "\n",
    "x = np.arange(1,10,1)\n",
    "z1 = 10**x\n",
    "\n",
    "fig, axes = plt.subplots(1, 2, figsize=(6,3))\n",
    "xtickvals = np.linspace(1,9,9)\n",
    "axes[0].plot(x,z1,'bs',label = 'powers of 10')\n",
    "axes[0].set_title(\"Normal scale\")\n",
    "axes[1].plot(x,z1,'rs',label = 'powers of 10')\n",
    "axes[1].set_title(\"Logarithmic scale - yaxis\")\n",
    "axes[1].set_yscale(\"log\")  # Here I set the y axis to a logarithmic scale \n",
    "axes[0].set_xlabel(\"x axis\")\n",
    "axes[0].set_ylabel(\"y axis\")\n",
    "axes[1].set_xlabel(\"x axis\")\n",
    "axes[1].set_ylabel(\"y axis\")\n",
    "\n",
    "axes[0].set_xticks(xtickvals)\n",
    "axes[1].set_xticks(xtickvals)\n",
    "axes[0].legend()\n",
    "axes[1].legend()\n",
    "plt.tight_layout()\n",
    "plt.show()"
   ]
  },
  {
   "cell_type": "markdown",
   "metadata": {
    "slideshow": {
     "slide_type": "slide"
    }
   },
   "source": [
    "* The plot on the left seems \"wrong\" but is in fact correct.  Although the y axis is labeled 0 to 1 on top of the y axis is the value 1e9.  this is to indicate that 1 corresponds to 1e9\n",
    "\n",
    "* The plot on the right is much better and easier to understand.  The y axis has been placed on a logarithmic scale such that each tick mark corresponds to an increase by a **multiplicative** factor of $10^2$ or 100.  The exponential function now looks linear. \n",
    "\n",
    "* This makes sense, because every unit increase in the x axis is **multiplying** the y axis by a factor of 10. "
   ]
  },
  {
   "cell_type": "code",
   "execution_count": 44,
   "metadata": {},
   "outputs": [],
   "source": [
    "y = np.array([0.001, 0.01, 0.1, 1, 10, 100, 1000])  # Each element is a factor of 10 larger than the previous element.  \n",
    "z2 = np.log10(y)"
   ]
  },
  {
   "cell_type": "markdown",
   "metadata": {
    "slideshow": {
     "slide_type": "slide"
    }
   },
   "source": [
    "### Rule of Thumb \n",
    "\n",
    "* If the data looks squished, explore using logarithmic scaling to better visualize the data. \n",
    "* It is extremely useful when communicating data to manipulate the x and y axis scales to see if we can make the data **look** linear by using logarithmic scales on either or (both) axis.  That tells us something useful about the relationship between the variables. When exploring data, we often make one or both of the axis logarithmic."
   ]
  }
 ],
 "metadata": {
  "celltoolbar": "Slideshow",
  "interpreter": {
   "hash": "fda1d92c402c9d5e0550eab7f590eb1c0582e487619314e6aa12d68c281f0580"
  },
  "kernelspec": {
   "display_name": "Python 3 (ipykernel)",
   "language": "python",
   "name": "python3"
  },
  "language_info": {
   "codemirror_mode": {
    "name": "ipython",
    "version": 3
   },
   "file_extension": ".py",
   "mimetype": "text/x-python",
   "name": "python",
   "nbconvert_exporter": "python",
   "pygments_lexer": "ipython3",
   "version": "3.12.4"
  }
 },
 "nbformat": 4,
 "nbformat_minor": 4
}
