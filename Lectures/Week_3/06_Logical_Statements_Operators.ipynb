{
 "cells": [
  {
   "cell_type": "markdown",
   "metadata": {
    "slideshow": {
     "slide_type": "slide"
    },
    "tags": []
   },
   "source": [
    "# **Lecture 6:** Logical Statements and Boolean Operators\n",
    "\n",
    "### The purpose of todays lecture is to introduce the use of *Logical Statements* and *Boolean Operators* in Programming. \n"
   ]
  },
  {
   "cell_type": "markdown",
   "metadata": {
    "slideshow": {
     "slide_type": "slide"
    }
   },
   "source": [
    "\n",
    "### A simple definition of a logical statement: \n",
    "* A logical statement is a statement that produces an output which either has the value **True** or **False**.  \n",
    "* From a coding perspective, we could also map those two states onto a binary variable which takes on the value 1 or 0.  \n",
    "* In practice these two representations can be used interchangeability and implicitly.  \n",
    "* This type of variable is known as a **Boolean** variable.   \n",
    "* In scientific applications in Psychology/Neuroscience we will make use of logical statements to develop boolean variables as \n",
    "1. logical *indexing* into data arrays in data analysis applications. \n",
    "1. conditional* code execution.   "
   ]
  },
  {
   "cell_type": "code",
   "execution_count": 31,
   "metadata": {
    "slideshow": {
     "slide_type": "fragment"
    },
    "tags": []
   },
   "outputs": [],
   "source": [
    "import numpy as np\n",
    "from numpy import random\n",
    "from matplotlib import pyplot as plt\n",
    "import pandas as pd"
   ]
  },
  {
   "cell_type": "markdown",
   "metadata": {
    "slideshow": {
     "slide_type": "slide"
    },
    "tags": []
   },
   "source": [
    "## Comparison Operators\n",
    "\n",
    "* A logical statement almost always involves comparisons. Examples of comparisons that come to mind might be \n",
    "1. `==` - equal                    \n",
    "1. `!=` - not equal                \n",
    "1. `>`  - greater than             \n",
    "1. `>=` - greater than or equal    \n",
    "1. `<`  - less than                \n",
    "1. `<=` - less than or equal       "
   ]
  },
  {
   "cell_type": "markdown",
   "metadata": {
    "slideshow": {
     "slide_type": "slide"
    },
    "tags": []
   },
   "source": [
    "### This set of examples looks at simple logical statements on variables, that returns either **True** or **False**"
   ]
  },
  {
   "cell_type": "code",
   "execution_count": null,
   "metadata": {
    "slideshow": {
     "slide_type": "fragment"
    },
    "tags": []
   },
   "outputs": [],
   "source": [
    "x = 5   #This is a statement defining the variable x with the value 5.  \n",
    "x == 5   #Test of Equality, returns the value True "
   ]
  },
  {
   "cell_type": "code",
   "execution_count": null,
   "metadata": {
    "slideshow": {
     "slide_type": "fragment"
    },
    "tags": []
   },
   "outputs": [],
   "source": [
    "x = 5\n",
    "test = (x == 5)  #Equal, True Statement, correct syntax,readable formatting \n",
    "print(test)"
   ]
  },
  {
   "cell_type": "code",
   "execution_count": null,
   "metadata": {
    "slideshow": {
     "slide_type": "fragment"
    }
   },
   "outputs": [],
   "source": [
    "x = 5\n",
    "test = (x != 5)  #Not Equal, False Statement \n",
    "print(test)"
   ]
  },
  {
   "cell_type": "markdown",
   "metadata": {
    "slideshow": {
     "slide_type": "slide"
    }
   },
   "source": [
    "* The internal representation of the Boolean variable is **both** True/False and 1/0 "
   ]
  },
  {
   "cell_type": "code",
   "execution_count": null,
   "metadata": {
    "slideshow": {
     "slide_type": "fragment"
    },
    "tags": []
   },
   "outputs": [],
   "source": [
    "x = 5\n",
    "test = (x == 5)  \n",
    "print(test)\n",
    "istestone = (test == 1) # Here I test if the boolean variable \n",
    "                    #with value True is the same as 1\n",
    "print(istestone)"
   ]
  },
  {
   "cell_type": "code",
   "execution_count": null,
   "metadata": {
    "slideshow": {
     "slide_type": "fragment"
    },
    "tags": []
   },
   "outputs": [],
   "source": [
    "x = 5\n",
    "test = (x != 5)  #Not Equal, False Statement \n",
    "print(test)\n",
    "istestzero = (test == 0) # Here I test if the boolean variable \n",
    "                        #with value False is the same as 0\n",
    "print(istestzero)"
   ]
  },
  {
   "cell_type": "markdown",
   "metadata": {
    "slideshow": {
     "slide_type": "slide"
    },
    "tags": []
   },
   "source": [
    "### Logical Statements on numpy arrays \n",
    "* When applying logical statements to an array, we return a numpy **Boolean** array of equal size containing Boolean variables.  \n",
    "* Because the Boolean array is a numpy array, we can do *math* with it.  "
   ]
  },
  {
   "cell_type": "code",
   "execution_count": null,
   "metadata": {
    "slideshow": {
     "slide_type": "fragment"
    },
    "tags": []
   },
   "outputs": [],
   "source": [
    "x = np.array([1, 2, 3, 4, 5]) #make an array from a list 1,2,3,4,5\n",
    "print(x)\n",
    "test = (x < 3)  # use the less than logical operation \n",
    "print(test) #print the output of the numpy array \n",
    "test.dtype  # with numpy arrays we use the dtype method \n",
    "            #to find out the data type. "
   ]
  },
  {
   "cell_type": "code",
   "execution_count": null,
   "metadata": {
    "slideshow": {
     "slide_type": "slide"
    },
    "tags": []
   },
   "outputs": [],
   "source": [
    "x = np.array([1, 2, 3, 4, 5]) #make an array from a list 1,2,3,4,5\n",
    "print(x)\n",
    "#How many elements of the array are less than 3? \n",
    "test = (x < 3)  # use the less than logical operation \n",
    "print(test)\n",
    "nless = np.sum(test) #Here I sum the boolean array, \n",
    "            #implicitly converting the True to 1 and False to 0\n",
    "print(nless)"
   ]
  },
  {
   "cell_type": "code",
   "execution_count": null,
   "metadata": {
    "slideshow": {
     "slide_type": "fragment"
    },
    "tags": []
   },
   "outputs": [],
   "source": [
    "x = np.array([1, 2, 3, 4, 5]) #make an array from a list 1,2,3,4,5\n",
    "print(x)\n",
    "#How many elements of the array are less than 3? \n",
    "test_less = (x < 3)  # use the less than logical operation \n",
    "print(test_less)\n",
    "test_greater = (x > 3)  # greater than\n",
    "print(test_greater)"
   ]
  },
  {
   "cell_type": "code",
   "execution_count": null,
   "metadata": {
    "slideshow": {
     "slide_type": "slide"
    },
    "tags": []
   },
   "outputs": [],
   "source": [
    "x = np.array([1, 2, 3, 4, 5]) #make an array from a list 1,2,3,4,5\n",
    "print(x)\n",
    "#How many elements of the array are less than 3? \n",
    "test_less = (x < 3)  # use the less than logical operation \n",
    "print(test_less)\n",
    "test_greater_eq = (x >= 3)  # greater than or equal\n",
    "print(test_greater_eq)"
   ]
  },
  {
   "cell_type": "code",
   "execution_count": null,
   "metadata": {
    "slideshow": {
     "slide_type": "fragment"
    },
    "tags": []
   },
   "outputs": [],
   "source": [
    "x = np.array([1, 2, 3, 4, 5]) #make an array from a list 1,2,3,4,5\n",
    "print(x)\n",
    "test_less_eq = (x <= 3)  # less than or equal\n",
    "print(test_less_eq)\n",
    "test_greater = (x > 3)  # greater than\n",
    "print(test_greater)"
   ]
  },
  {
   "cell_type": "markdown",
   "metadata": {
    "slideshow": {
     "slide_type": "slide"
    }
   },
   "source": [
    "* The complement of `==` is `!=`"
   ]
  },
  {
   "cell_type": "code",
   "execution_count": null,
   "metadata": {
    "slideshow": {
     "slide_type": "fragment"
    },
    "tags": []
   },
   "outputs": [],
   "source": [
    "x = np.array([1, 2, 3, 4, 5]) #make an array from a list 1,2,3,4,5\n",
    "print(x)\n",
    "test_eq = (x == 3)  # equal\n",
    "print(test_eq)\n",
    "test_neq = (x != 3)  # not equal\n",
    "print(test_neq)"
   ]
  },
  {
   "cell_type": "markdown",
   "metadata": {
    "slideshow": {
     "slide_type": "slide"
    },
    "tags": []
   },
   "source": [
    "### Logical complement, or logical_not\n",
    "\n",
    "* The complement of a boolean variable is the opposite state.  The complement of **True** is **False** and the complement of **False** is **True** \n",
    "\n",
    "* There are two ways to take the complement of a Boolean array.  One is the numpy method `logical_not` or by using the operator `~`\n"
   ]
  },
  {
   "cell_type": "code",
   "execution_count": null,
   "metadata": {
    "slideshow": {
     "slide_type": "fragment"
    },
    "tags": []
   },
   "outputs": [],
   "source": [
    "x = np.array([1, 2, 3, 4, 5]) #make an array from a list 1,2,3,4,5\n",
    "print(x)\n",
    "test_greater = (x > 3)  # greater than\n",
    "test_not_greater = np.logical_not(test_greater)\n",
    "print('test greater = ', test_greater)\n",
    "print('test greater complement  = ',test_not_greater)"
   ]
  },
  {
   "cell_type": "markdown",
   "metadata": {
    "slideshow": {
     "slide_type": "slide"
    },
    "tags": []
   },
   "source": [
    "### Rules of Logic - Set Theory Perspective\n",
    "\n",
    "* The rules of logic and set theory are important to understand in meaningfully evaluation logical statements. \n",
    "\n",
    "* We can view the array `x =[1 2 3 4 5]` as a **set**. \n",
    "\n",
    "* Any of the logical statements uses a comparison operation to divide the set into two **subsets**, one where the logical statement is **True**, and another where the logical statement is **False**.    \n",
    "\n",
    "* **The most important thing to remember is that the two subsets must combine to the original set**"
   ]
  },
  {
   "cell_type": "code",
   "execution_count": null,
   "metadata": {
    "slideshow": {
     "slide_type": "fragment"
    },
    "tags": []
   },
   "outputs": [],
   "source": [
    "x = np.array([1, 2, 3, 4, 5]) #make an array from a list 1,2,3,4,5\n",
    "print(x)\n",
    "test_equal = (x == 3)  # equal\n",
    "test_not_equal = (x != 3) #not equal\n",
    "print('test equal  = ', test_equal)\n",
    "print('test equal complement  = ',test_not_equal)"
   ]
  },
  {
   "cell_type": "markdown",
   "metadata": {
    "slideshow": {
     "slide_type": "slide"
    },
    "tags": []
   },
   "source": [
    "### Creating Boolean Arrays\n",
    "\n",
    "* Sometimes we need to manually create Boolean variable or array.  \n",
    "* A Boolean variable can be obtained like this "
   ]
  },
  {
   "cell_type": "code",
   "execution_count": null,
   "metadata": {
    "slideshow": {
     "slide_type": "fragment"
    },
    "tags": []
   },
   "outputs": [],
   "source": [
    "#Boolean variables\n",
    "boolean_var1 = True\n",
    "print(boolean_var1)\n",
    "boolean_var2 = bool(0)\n",
    "print(boolean_var2)"
   ]
  },
  {
   "cell_type": "markdown",
   "metadata": {
    "slideshow": {
     "slide_type": "slide"
    }
   },
   "source": [
    "* Boolean Arrays are similar"
   ]
  },
  {
   "cell_type": "code",
   "execution_count": null,
   "metadata": {
    "slideshow": {
     "slide_type": "fragment"
    },
    "tags": []
   },
   "outputs": [],
   "source": [
    "#Boolean Arrays\n",
    "boolean_array1 = [True,False,False,True]\n",
    "print(boolean_array1)\n",
    "boolean_numpy_array1 = np.array(boolean_array1)\n",
    "print(boolean_numpy_array1)"
   ]
  },
  {
   "cell_type": "code",
   "execution_count": null,
   "metadata": {
    "slideshow": {
     "slide_type": "fragment"
    },
    "tags": []
   },
   "outputs": [],
   "source": [
    "#Boolean arrays from 0 and 1\n",
    "integer_array = np.array([0,1,1,0])\n",
    "print(integer_array)\n",
    "boolean_array3 = np.array([0,1,1,0],dtype=bool)  # force the data type to boolean \n",
    "print(boolean_array3)"
   ]
  },
  {
   "cell_type": "markdown",
   "metadata": {
    "slideshow": {
     "slide_type": "slide"
    },
    "tags": []
   },
   "source": [
    "### Conversion to a Boolean Array - I can turn anything into a boolean array. \n",
    "* What are the rules? \n",
    "1. 0, None, False or empty strings ARE **False**\n",
    "2. Values other than 0, None, False or empty strings ARE **True**."
   ]
  },
  {
   "cell_type": "code",
   "execution_count": null,
   "metadata": {
    "slideshow": {
     "slide_type": "fragment"
    },
    "tags": []
   },
   "outputs": [],
   "source": [
    "strange_list = [1, 0.5, 0, 0.0, None, 'a', '', ' ',True, False]\n",
    "bool_arr = np.array(strange_list, dtype=bool)\n",
    "print(strange_list)\n",
    "print(bool_arr)"
   ]
  },
  {
   "cell_type": "markdown",
   "metadata": {
    "slideshow": {
     "slide_type": "fragment"
    },
    "tags": []
   },
   "source": [
    "* Interpreted languages like Python, Matlab, R are easy to use because you can be careless and things still kind of work.  \n",
    "* **This is their strength AND their weakness**\n",
    "* Its really easy to get code to run\n",
    "* Its really easy to have a mistake in your code and have your code seem to work in these languages.  "
   ]
  },
  {
   "cell_type": "markdown",
   "metadata": {
    "slideshow": {
     "slide_type": "slide"
    },
    "tags": []
   },
   "source": [
    "###  Logical Statements to Compare Arrays\n",
    "\n",
    "* Logical Operators can be used to compare arrays of equal size and shape.  \n",
    "* Such comparisons proceed on an element by element basis and return a Boolean array of the same size"
   ]
  },
  {
   "cell_type": "code",
   "execution_count": null,
   "metadata": {
    "slideshow": {
     "slide_type": "fragment"
    },
    "tags": []
   },
   "outputs": [],
   "source": [
    "rng = random.default_rng(seed = 21)\n",
    "array_a = rng.integers(0,10,8) #array of random integers\n",
    "array_b = rng.integers(0,10,8)\n",
    "test = (array_a > array_b) # is a greater than b\n",
    "print(array_a)\n",
    "print(array_b)\n",
    "print(test)"
   ]
  },
  {
   "cell_type": "markdown",
   "metadata": {
    "slideshow": {
     "slide_type": "slide"
    }
   },
   "source": [
    "* You can embed mathematical calculations into logical statements."
   ]
  },
  {
   "cell_type": "code",
   "execution_count": null,
   "metadata": {
    "slideshow": {
     "slide_type": "fragment"
    },
    "tags": []
   },
   "outputs": [],
   "source": [
    " \n",
    "x = np.array([1,2,3,4,5])\n",
    "y = 2**x\n",
    "z = x**2\n",
    "test = (y == z)\n",
    "print(x)\n",
    "print(y)\n",
    "print(z)\n",
    "print(test)"
   ]
  },
  {
   "cell_type": "markdown",
   "metadata": {
    "slideshow": {
     "slide_type": "fragment"
    }
   },
   "source": [
    "* You can do it in 1 step if you want.  "
   ]
  },
  {
   "cell_type": "code",
   "execution_count": null,
   "metadata": {
    "slideshow": {
     "slide_type": "fragment"
    }
   },
   "outputs": [],
   "source": [
    "onesteptest = (2**x == x**2)\n",
    "print(onesteptest)"
   ]
  },
  {
   "cell_type": "markdown",
   "metadata": {
    "slideshow": {
     "slide_type": "slide"
    },
    "tags": []
   },
   "source": [
    "### Boolean Operators \n",
    "\n",
    "* We can combine Logical Statements using **Boolean operators** to express more complex logical expressions. \n",
    "* Boolean Operators are operators that work on Boolean variables to create **compound** logical statements.  \n",
    "* This is equivalent to the idea arithmetic operators are operators that work on floating point numbers. \n"
   ]
  },
  {
   "cell_type": "markdown",
   "metadata": {
    "slideshow": {
     "slide_type": "fragment"
    }
   },
   "source": [
    "### `Not` (`~`) operator\n",
    "* This Boolean operator flipped the value of the Boolean variable between True and False. \n"
   ]
  },
  {
   "cell_type": "code",
   "execution_count": null,
   "metadata": {
    "slideshow": {
     "slide_type": "fragment"
    }
   },
   "outputs": [],
   "source": [
    "bool_array1 = np.array([0,0,0,1,1,0,1,0],dtype=bool)\n",
    "print(bool_array1)\n",
    "bool_array2 = ~bool_array1\n",
    "print(bool_array2)"
   ]
  },
  {
   "cell_type": "markdown",
   "metadata": {
    "slideshow": {
     "slide_type": "slide"
    },
    "tags": []
   },
   "source": [
    "### Table of Boolean Operators.\n",
    "\n",
    "* The following table summarizes the bitwise Boolean operators and their equivalent ufuncs:\n",
    "* There are 3 logical operations: and, or, not <br>\n",
    "\n",
    "<table><tbody><tr><th>Operator</th>\n",
    "\t\t\t<th>Meaning</th>\n",
    "\t\t\t<th>Example</th>\n",
    "\t\t</tr><tr><td>and</td>\n",
    "\t\t\t<td>True if both the operands are true</td>\n",
    "\t\t\t<td>x & y</td>\n",
    "\t\t</tr><tr><td>or </td>\n",
    "\t\t\t<td>True if either of the operands is true</td>\n",
    "\t\t\t<td>x | y</td>\n",
    "\t\t</tr><tr><td>not</td>\n",
    "\t\t\t<td>True if operand is false (complements the operand)</td>\n",
    "\t\t\t<td>~x</td>\n",
    "\t\t</tr></tbody></table>"
   ]
  },
  {
   "cell_type": "markdown",
   "metadata": {
    "slideshow": {
     "slide_type": "fragment"
    },
    "tags": []
   },
   "source": [
    "### **VERY IMPORTANT POINT**\n",
    "\n",
    "* You will read online about the `and` and `or` operators built in to Python. \n",
    "* Many students in my classes have wasted a lot of time trying to use this. \n",
    "* They dont work properly on `numpy` arrays. \n",
    "* Please use `&` for **and** `|` for **or**. \n"
   ]
  },
  {
   "cell_type": "markdown",
   "metadata": {
    "slideshow": {
     "slide_type": "slide"
    },
    "tags": []
   },
   "source": [
    "### Combining Boolean operators on arrays can lead to a wide range of efficient logical operations"
   ]
  },
  {
   "cell_type": "markdown",
   "metadata": {
    "slideshow": {
     "slide_type": "fragment"
    }
   },
   "source": [
    "* Example 1 - & (AND)"
   ]
  },
  {
   "cell_type": "code",
   "execution_count": null,
   "metadata": {
    "slideshow": {
     "slide_type": "fragment"
    },
    "tags": []
   },
   "outputs": [],
   "source": [
    "rng = random.default_rng(seed = 1967)\n",
    "a = rng.integers(-9,10,12) #make integers from -9 to 9 \n",
    "print(a)\n",
    "x = (a < 5) #find the integers less than 5\n",
    "print('x = ',x) #This is a Boolean which tells where in a I can find x\n",
    "y = (a > -5) #find the integers greater than -5\n",
    "print('y = ',y) #This is a Boolean which tells me where in a I can find y "
   ]
  },
  {
   "cell_type": "markdown",
   "metadata": {
    "slideshow": {
     "slide_type": "slide"
    },
    "tags": []
   },
   "source": [
    "* To find the integers between -5 and 5 \n",
    "* we need to take the **intersection** of the subset of a represented by x with the subset of a represented by y. \n",
    "* In math (or logic), we would write this is as $x \\cap y$\n",
    "* In python, we can carry this out with an `&` operator"
   ]
  },
  {
   "cell_type": "code",
   "execution_count": null,
   "metadata": {
    "slideshow": {
     "slide_type": "fragment"
    },
    "tags": []
   },
   "outputs": [],
   "source": [
    "z1 = x & y #The & symbol requires that both conditional statements be true \n",
    "print(z1)"
   ]
  },
  {
   "cell_type": "markdown",
   "metadata": {
    "slideshow": {
     "slide_type": "slide"
    },
    "tags": []
   },
   "source": [
    "* Example 2 - | (OR)"
   ]
  },
  {
   "cell_type": "code",
   "execution_count": null,
   "metadata": {
    "slideshow": {
     "slide_type": "fragment"
    },
    "tags": []
   },
   "outputs": [],
   "source": [
    "a = rng.integers(-9,10,12) #make integers from -9 to 9 \n",
    "print(a)\n",
    "x = (a > 5) #find the integers greater than 6\n",
    "print('x = ',x) #This is a Boolean which tells where in a I can find x\n",
    "y = (a < -5) #find the integers less than -6\n",
    "print('y = ',y) #This is a Boolean which tells me where in a I can find y "
   ]
  },
  {
   "cell_type": "markdown",
   "metadata": {
    "slideshow": {
     "slide_type": "slide"
    },
    "tags": []
   },
   "source": [
    "* To find the integers *either* greater than 5 *or* less than -5 \n",
    "* We need to take the **union** of the subset of a represented by x with the subset of a represented by y. \n",
    "* In math (or logic), we would write this is as $x \\cup y$\n",
    "* In python, we can carry this out with an `|` operator"
   ]
  },
  {
   "cell_type": "code",
   "execution_count": null,
   "metadata": {
    "slideshow": {
     "slide_type": "fragment"
    },
    "tags": []
   },
   "outputs": [],
   "source": [
    "z1 = (x | y) #The | symbol requires that either one of the conditional statements be true \n",
    "print(z1)"
   ]
  },
  {
   "cell_type": "markdown",
   "metadata": {
    "slideshow": {
     "slide_type": "slide"
    },
    "tags": []
   },
   "source": [
    "### Working with Boolean Arrays\n",
    "\n",
    "* Why do we want to make use of Boolean arrays?  \n",
    "* Here I will show some useful operations that Boolean arrays will allow us to do.  \n",
    "* I will show an example of how we make use of Boolean arrays to organize data.  "
   ]
  },
  {
   "cell_type": "markdown",
   "metadata": {
    "slideshow": {
     "slide_type": "slide"
    },
    "tags": []
   },
   "source": [
    "### Counting entries\n",
    "\n",
    "* To count the number of **True** entries in a Boolean array, `np.count_nonzero` is useful:"
   ]
  },
  {
   "cell_type": "code",
   "execution_count": null,
   "metadata": {
    "slideshow": {
     "slide_type": "fragment"
    },
    "tags": []
   },
   "outputs": [],
   "source": [
    "x = rng.integers(0,9,12)\n",
    "print(x)\n",
    "print(x<6)\n",
    "# how many values less than 6?\n",
    "n6 = np.count_nonzero(x < 6)\n",
    "print(n6)"
   ]
  },
  {
   "cell_type": "markdown",
   "metadata": {
    "slideshow": {
     "slide_type": "slide"
    },
    "tags": []
   },
   "source": [
    "* We see that `count_nonzero` counted the number of entries that were **True** in the entire matrix. \n",
    "* Python interprets **True** as having the numeric value of 1, and **False** as zero.  \n",
    "* Another way to get at this information is to use `np.sum`:"
   ]
  },
  {
   "cell_type": "code",
   "execution_count": null,
   "metadata": {
    "slideshow": {
     "slide_type": "fragment"
    },
    "tags": []
   },
   "outputs": [],
   "source": [
    "nsum6 = np.sum(x < 6)\n",
    "print(nsum6)"
   ]
  },
  {
   "cell_type": "code",
   "execution_count": null,
   "metadata": {
    "slideshow": {
     "slide_type": "fragment"
    }
   },
   "outputs": [],
   "source": [
    "y = x >= 6\n",
    "nsumg6 = np.sum(y) # count the number greater than 6\n",
    "print(nsumg6) \n",
    "nsuml6 = np.sum(~y) # count hte number less than 6\n",
    "print(nsuml6)"
   ]
  },
  {
   "cell_type": "markdown",
   "metadata": {
    "slideshow": {
     "slide_type": "slide"
    },
    "tags": []
   },
   "source": [
    "### Global array tests\n",
    "* `np.any`  can be used to test the entire array for whether *any* element is **True**  \n"
   ]
  },
  {
   "cell_type": "code",
   "execution_count": null,
   "metadata": {
    "slideshow": {
     "slide_type": "fragment"
    },
    "tags": []
   },
   "outputs": [],
   "source": [
    "# are there any values greater than 8?\n",
    "print(x)\n",
    "np.any(x > 8)"
   ]
  },
  {
   "cell_type": "code",
   "execution_count": null,
   "metadata": {
    "slideshow": {
     "slide_type": "fragment"
    },
    "tags": []
   },
   "outputs": [],
   "source": [
    "# are there any values less than zero?\n",
    "print(x)\n",
    "np.any(x < 0)"
   ]
  },
  {
   "cell_type": "markdown",
   "metadata": {
    "slideshow": {
     "slide_type": "slide"
    }
   },
   "source": [
    "* `np.all` can be used to test the entire array for whether *all* elements are **True**"
   ]
  },
  {
   "cell_type": "code",
   "execution_count": null,
   "metadata": {
    "slideshow": {
     "slide_type": "fragment"
    },
    "tags": []
   },
   "outputs": [],
   "source": [
    "# are all values less than 10?\n",
    "print(x)\n",
    "np.all(x < 10)"
   ]
  },
  {
   "cell_type": "code",
   "execution_count": null,
   "metadata": {
    "slideshow": {
     "slide_type": "fragment"
    },
    "tags": []
   },
   "outputs": [],
   "source": [
    "# are all values equal to 6?\n",
    "print(x)\n",
    "np.all(x == 6)"
   ]
  },
  {
   "cell_type": "markdown",
   "metadata": {
    "slideshow": {
     "slide_type": "slide"
    },
    "tags": []
   },
   "source": [
    "### Boolean Indexing \n",
    "* We can make use of the Boolean variable that is the results of a logical statement as the **index** into a variable to extract the variables that meet the condition of the logical statement.   \n",
    "* We often will want to return the **index** into an array that meets a logical condition. "
   ]
  },
  {
   "cell_type": "code",
   "execution_count": null,
   "metadata": {
    "slideshow": {
     "slide_type": "fragment"
    },
    "tags": []
   },
   "outputs": [],
   "source": [
    "my_array = rng.integers(0,10,20)\n",
    "print(my_array)\n",
    "#test if the array entries are bigger than 5\n",
    "test = (my_array > 5)\n",
    "print(test)\n",
    "#how many values are there greater than 5 \n",
    "count = np.sum(test)\n",
    "print(count)\n",
    "my_greater_than_5_array = my_array[test]\n",
    "print(my_greater_than_5_array)\n",
    "np.size(my_greater_than_5_array)"
   ]
  },
  {
   "cell_type": "markdown",
   "metadata": {
    "slideshow": {
     "slide_type": "slide"
    }
   },
   "source": [
    "### Implicit Boolean indexing\n",
    "\n",
    "* We can do the Boolean indexing implicitly, and I think it makes it more readable. "
   ]
  },
  {
   "cell_type": "code",
   "execution_count": null,
   "metadata": {
    "slideshow": {
     "slide_type": "fragment"
    }
   },
   "outputs": [],
   "source": [
    "onestep_greater_than_5 = my_array[my_array > 5]\n",
    "print(onestep_greater_than_5)"
   ]
  },
  {
   "cell_type": "markdown",
   "metadata": {
    "slideshow": {
     "slide_type": "slide"
    },
    "tags": []
   },
   "source": [
    "* Suppose my task is to find the mean of all entries in the array greater than 5. \n",
    "* I can do this with a simple logical statement.  \n",
    "* Its really important to look at this and see it in spoken language terms. "
   ]
  },
  {
   "cell_type": "code",
   "execution_count": null,
   "metadata": {
    "slideshow": {
     "slide_type": "fragment"
    },
    "tags": []
   },
   "outputs": [],
   "source": [
    "bigmean = np.mean(my_array[my_array > 5])\n",
    "print(bigmean)"
   ]
  },
  {
   "cell_type": "markdown",
   "metadata": {},
   "source": [
    "* This will prove very useful in data summary and visualization at the end of the quarter. "
   ]
  }
 ],
 "metadata": {
  "interpreter": {
   "hash": "fda1d92c402c9d5e0550eab7f590eb1c0582e487619314e6aa12d68c281f0580"
  },
  "kernelspec": {
   "display_name": "Python 3 (ipykernel)",
   "language": "python",
   "name": "python3"
  },
  "language_info": {
   "codemirror_mode": {
    "name": "ipython",
    "version": 3
   },
   "file_extension": ".py",
   "mimetype": "text/x-python",
   "name": "python",
   "nbconvert_exporter": "python",
   "pygments_lexer": "ipython3",
   "version": "3.12.4"
  }
 },
 "nbformat": 4,
 "nbformat_minor": 4
}
