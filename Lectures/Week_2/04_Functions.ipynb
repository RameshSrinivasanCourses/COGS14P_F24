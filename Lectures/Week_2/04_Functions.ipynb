{
 "cells": [
  {
   "cell_type": "markdown",
   "metadata": {
    "slideshow": {
     "slide_type": "slide"
    },
    "tags": []
   },
   "source": [
    "# **Lecture 4** How to Make and Use Functions\n",
    "\n",
    "* A **function** is a re-usable piece of code that performs operations on a specified set of variables, and returns the result. \n",
    "* In this week, we have worked with many built-in python and numpy **functions** like `print` and `np.sort`, etc.\n",
    "* In addition, in your homework you will explore functions like mean, median, etc.    \n"
   ]
  },
  {
   "cell_type": "markdown",
   "metadata": {
    "slideshow": {
     "slide_type": "slide"
    },
    "tags": []
   },
   "source": [
    "## **Why do I need this?** \n",
    "* Some pieces of code perform a particular operation which you plan to use many times. \n",
    "* Rather than copying code over and over again you can use the function. \n",
    "* If we define a function it becomes easy to use the same code in many programs.\n",
    "* It allows you to have confidence that you have solved one piece of a larger puzzle.  \n",
    "* It improves testing, readability, and reliability by breaking up the program into smaller units. "
   ]
  },
  {
   "cell_type": "code",
   "execution_count": 1,
   "metadata": {
    "slideshow": {
     "slide_type": "fragment"
    },
    "tags": []
   },
   "outputs": [],
   "source": [
    "import numpy as np \n",
    "from numpy import random\n",
    "rng = random.default_rng(seed = 1967)"
   ]
  },
  {
   "cell_type": "markdown",
   "metadata": {
    "slideshow": {
     "slide_type": "slide"
    },
    "tags": []
   },
   "source": [
    "## Syntax of a Function\n",
    "\n",
    "* These are the essential pieces to a function: \n",
    "1. `def` statement naming the function and how to call it. The def statement should end with a colon :\n",
    "2. The function has a name.  This name will be used to call the function. \n",
    "3. The function may have **arguments**.  Arguments are variables passed into the function. \n",
    "4. `return` statement indicating what variables are returned (almost always!)."
   ]
  },
  {
   "cell_type": "markdown",
   "metadata": {
    "slideshow": {
     "slide_type": "slide"
    },
    "tags": []
   },
   "source": [
    "* So, the most basic structure of a function definition is \n",
    "\n",
    "    def function_name(arg):\n",
    "        some code that works on arg and creates output_variable\n",
    "        return output_variable "
   ]
  },
  {
   "cell_type": "code",
   "execution_count": 2,
   "metadata": {
    "slideshow": {
     "slide_type": "fragment"
    },
    "tags": []
   },
   "outputs": [],
   "source": [
    "### Example: Square a number\n",
    "def square(x):  #Here, x is called the argument. \n",
    "    y = x**2    #Here I do the calculation \n",
    "    return y    # here i tell it to return y"
   ]
  },
  {
   "cell_type": "code",
   "execution_count": null,
   "metadata": {
    "slideshow": {
     "slide_type": "fragment"
    },
    "tags": []
   },
   "outputs": [],
   "source": [
    "x = 5\n",
    "y = square(x)\n",
    "print(y)"
   ]
  },
  {
   "cell_type": "code",
   "execution_count": null,
   "metadata": {
    "slideshow": {
     "slide_type": "fragment"
    },
    "tags": []
   },
   "outputs": [],
   "source": [
    "### I dont really need to define x, I could just pass the number in \n",
    "y = square(2)\n",
    "print(y)"
   ]
  },
  {
   "cell_type": "markdown",
   "metadata": {
    "slideshow": {
     "slide_type": "slide"
    },
    "tags": []
   },
   "source": [
    "* There is nothing special about x and y, I could use any variable names. \n",
    "* The only name that is important is the **function** name, which is `square`\n",
    "* The function name is defined in the `def` statement\n"
   ]
  },
  {
   "cell_type": "code",
   "execution_count": null,
   "metadata": {
    "slideshow": {
     "slide_type": "fragment"
    },
    "tags": []
   },
   "outputs": [],
   "source": [
    "my_var = 3\n",
    "my_var_sq = square(my_var)\n",
    "print(my_var_sq)"
   ]
  },
  {
   "cell_type": "markdown",
   "metadata": {
    "slideshow": {
     "slide_type": "slide"
    },
    "tags": []
   },
   "source": [
    "## Functions Have Independent Namespaces \n",
    "* What is a Namespace?  \n",
    "1. The Namespace is the total set of variables, object, functions defined by you while programming.  \n",
    "2. You can quickly view the namespace using the Variables pane\n",
    "3. The Namespace of a function is *hidden*. \n",
    "4. The variables inside a function are not visible to you, unless you explicitly return them.  "
   ]
  },
  {
   "cell_type": "code",
   "execution_count": null,
   "metadata": {
    "slideshow": {
     "slide_type": "slide"
    },
    "tags": []
   },
   "outputs": [],
   "source": [
    "def cube(z):\n",
    "    z_cube = z**3\n",
    "    return z_cube\n",
    "\n",
    "my_number = 4\n",
    "my_cube = cube(my_number)\n",
    "print(my_cube)\n"
   ]
  },
  {
   "cell_type": "code",
   "execution_count": null,
   "metadata": {
    "slideshow": {
     "slide_type": "fragment"
    },
    "tags": []
   },
   "outputs": [],
   "source": [
    "### z and z_cube only exist inside the function. \n",
    "print(z_cube)"
   ]
  },
  {
   "cell_type": "code",
   "execution_count": null,
   "metadata": {
    "slideshow": {
     "slide_type": "slide"
    },
    "tags": []
   },
   "outputs": [],
   "source": [
    "def cubeplusone(z):\n",
    "    z = z+1  #notice here the value of z is being updated by adding 1.  \n",
    "    z_cube = z**3\n",
    "    return z_cube \n",
    "x = 2\n",
    "y = cubeplusone(x)\n",
    "print('x = ',x)  # even though x was put in the position of the argument z and 1 was added to z nothing happens to x\n",
    "print('y = ',y)  "
   ]
  },
  {
   "cell_type": "code",
   "execution_count": null,
   "metadata": {
    "slideshow": {
     "slide_type": "slide"
    },
    "tags": []
   },
   "outputs": [],
   "source": [
    "z = 1 \n",
    "z_cube = cubeplusone(z)\n",
    "print(z)  \n",
    "print(z_cube) "
   ]
  },
  {
   "cell_type": "markdown",
   "metadata": {
    "slideshow": {
     "slide_type": "fragment"
    }
   },
   "source": [
    "* even if the variable name z is inside and outside the function it does not get modified in the global name space. \n",
    "* z inside the function and z outside the function are separate variables"
   ]
  },
  {
   "cell_type": "markdown",
   "metadata": {
    "slideshow": {
     "slide_type": "fragment"
    },
    "tags": []
   },
   "source": [
    "\n",
    "### **What happens in the function, stays in the function** \n",
    "* The only thing you can see is what comes back in the `return` statement. "
   ]
  },
  {
   "cell_type": "markdown",
   "metadata": {
    "slideshow": {
     "slide_type": "slide"
    }
   },
   "source": [
    "### Print statements inside functions. \n",
    "* One way to see what is happening inside the function is a print statement inside the function. \n",
    "* Another way is a debugger but that is IMO unneccesarily complicated for this class. "
   ]
  },
  {
   "cell_type": "code",
   "execution_count": null,
   "metadata": {
    "slideshow": {
     "slide_type": "fragment"
    }
   },
   "outputs": [],
   "source": [
    "def cubeplusone(z):\n",
    "    z = z+1  #notice here the value of z is being updated by adding 1.  \n",
    "    z_cube = z**3\n",
    "    print(z,z_cube)\n",
    "    return z_cube \n",
    "x = 2\n",
    "y = cubeplusone(x)\n",
    "print('x = ',x)  # even though x was put in the position of the argument z and 1 was added to z nothing happens to x\n",
    "print('y = ',y)  "
   ]
  },
  {
   "cell_type": "markdown",
   "metadata": {
    "slideshow": {
     "slide_type": "slide"
    }
   },
   "source": [
    "* `print` is not the same thing as `return`"
   ]
  },
  {
   "cell_type": "code",
   "execution_count": null,
   "metadata": {
    "slideshow": {
     "slide_type": "fragment"
    }
   },
   "outputs": [],
   "source": [
    "def cubeplustwo(z):\n",
    "    z = z+2  #notice here the value of z is being updated by adding 1.  \n",
    "    z_cube = z**3\n",
    "    print(z,z_cube)\n",
    "testin = 2\n",
    "testout = cubeplustwo(x)\n",
    "print('testin = ',testin)  # even though x was put in the position of the argument z and 1 was added to z nothing happens to x\n",
    "print('testout = ',testout)"
   ]
  },
  {
   "cell_type": "markdown",
   "metadata": {
    "slideshow": {
     "slide_type": "fragment"
    }
   },
   "source": [
    "* If you want to get something back from a function you need a `return` statement "
   ]
  },
  {
   "cell_type": "markdown",
   "metadata": {
    "slideshow": {
     "slide_type": "slide"
    },
    "tags": []
   },
   "source": [
    "## Multiple Inputs and Outputs To A Function \n",
    "\n",
    "* A function can take multiple input and return multiple outputs. "
   ]
  },
  {
   "cell_type": "code",
   "execution_count": null,
   "metadata": {
    "slideshow": {
     "slide_type": "fragment"
    },
    "tags": []
   },
   "outputs": [],
   "source": [
    "def npower(x,n):\n",
    "    y = x**n\n",
    "    return y\n",
    "\n",
    "z = 3\n",
    "m = 4\n",
    "y = npower(z,m)  # this computes z**m.\n",
    "print(y)"
   ]
  },
  {
   "cell_type": "code",
   "execution_count": null,
   "metadata": {
    "slideshow": {
     "slide_type": "subslide"
    },
    "tags": []
   },
   "outputs": [],
   "source": [
    "def power_and_root(x,n):\n",
    "    y = x**n\n",
    "    z = x**(1/n)\n",
    "    return y,z \n",
    "\n",
    "z = 4\n",
    "m = 2\n",
    "y1,y2 = power_and_root(z,m)  # this computes z**m and z**(1/m) which is the mth root of z.\n",
    "print(y1)\n",
    "print(y2)"
   ]
  },
  {
   "cell_type": "code",
   "execution_count": null,
   "metadata": {
    "slideshow": {
     "slide_type": "fragment"
    }
   },
   "outputs": [],
   "source": [
    "### What if you forget that there are 2 outputs? \n",
    "y = power_and_root(z,m)\n",
    "print(y)"
   ]
  },
  {
   "cell_type": "code",
   "execution_count": null,
   "metadata": {
    "slideshow": {
     "slide_type": "fragment"
    }
   },
   "outputs": [],
   "source": [
    "### Then you get them back as a list (Actually a tuple).  \n",
    "print(y[0])\n",
    "print(y[1])"
   ]
  },
  {
   "cell_type": "markdown",
   "metadata": {
    "slideshow": {
     "slide_type": "slide"
    },
    "tags": []
   },
   "source": [
    "## Functions Can Interact with the Global Namespace \n",
    "* The first time I encountered this, it made me really uncomfortable. "
   ]
  },
  {
   "cell_type": "code",
   "execution_count": 16,
   "metadata": {
    "slideshow": {
     "slide_type": "fragment"
    },
    "tags": []
   },
   "outputs": [],
   "source": [
    "def zum(a,b):  #Here, a,b the argument. \n",
    "    c = a+b\n",
    "    d = (a+b)/z #Notice, z does not appear in the argument list.  \n",
    "    return c,d"
   ]
  },
  {
   "cell_type": "code",
   "execution_count": null,
   "metadata": {
    "slideshow": {
     "slide_type": "fragment"
    },
    "tags": []
   },
   "outputs": [],
   "source": [
    "a = 1\n",
    "b = 2\n",
    "z = 3\n",
    "c,d = zum(a,b)\n",
    "print(c)\n",
    "print(d)"
   ]
  },
  {
   "cell_type": "markdown",
   "metadata": {
    "slideshow": {
     "slide_type": "fragment"
    }
   },
   "source": [
    "* This should bother you!  \n",
    "* Why is it that I can use the variable z, even though it was not one of the arguments.  "
   ]
  },
  {
   "cell_type": "code",
   "execution_count": 18,
   "metadata": {
    "slideshow": {
     "slide_type": "slide"
    },
    "tags": []
   },
   "outputs": [],
   "source": [
    "def zum_a1(a,b):  #Here, a,b the argument. \n",
    "    a = a+1\n",
    "    c = a+b\n",
    "    d = (a+b)/z #Notice, z does not appear in the argument list.  \n",
    "    return c,d"
   ]
  },
  {
   "cell_type": "code",
   "execution_count": null,
   "metadata": {
    "scrolled": true,
    "slideshow": {
     "slide_type": "fragment"
    },
    "tags": []
   },
   "outputs": [],
   "source": [
    "a = 1\n",
    "b = 2\n",
    "z = 3\n",
    "c,d = zum_a1(a,b)\n",
    "print(c)\n",
    "print(d)\n",
    "print(a)"
   ]
  },
  {
   "cell_type": "markdown",
   "metadata": {
    "slideshow": {
     "slide_type": "fragment"
    }
   },
   "source": [
    "* Functions have access to the global namespace! "
   ]
  },
  {
   "cell_type": "markdown",
   "metadata": {
    "slideshow": {
     "slide_type": "slide"
    }
   },
   "source": [
    "* In this next example, I plan to manipulate a variable in the global name space.  "
   ]
  },
  {
   "cell_type": "code",
   "execution_count": 20,
   "metadata": {
    "slideshow": {
     "slide_type": "fragment"
    },
    "tags": []
   },
   "outputs": [],
   "source": [
    "def zum_z1(a,b):  #Here, a,b the argument. \n",
    "    z = z+1 # here I add 1 to z and place it in z. z is a global namespace variable.  \n",
    "    c = a+b\n",
    "    d = (a+b)/z   \n",
    "    return c,d"
   ]
  },
  {
   "cell_type": "code",
   "execution_count": null,
   "metadata": {
    "scrolled": true,
    "slideshow": {
     "slide_type": "slide"
    },
    "tags": []
   },
   "outputs": [],
   "source": [
    "a = 1\n",
    "b = 2\n",
    "z = 3\n",
    "c,d = zum_z1(a,b)\n",
    "print(c)\n",
    "print(d)"
   ]
  },
  {
   "cell_type": "markdown",
   "metadata": {
    "slideshow": {
     "slide_type": "fragment"
    },
    "tags": []
   },
   "source": [
    "* While I can use global namespace variable z in the function, **I cannot update its value** \n"
   ]
  },
  {
   "cell_type": "markdown",
   "metadata": {
    "slideshow": {
     "slide_type": "slide"
    }
   },
   "source": [
    "* Do I need any arguments at all?"
   ]
  },
  {
   "cell_type": "code",
   "execution_count": 22,
   "metadata": {
    "slideshow": {
     "slide_type": "slide"
    },
    "tags": []
   },
   "outputs": [],
   "source": [
    " \n",
    "def zum():  #Here, a,b the argument. \n",
    "    c = a+b #Notice, a,b does not appear in the argument list.\n",
    "    d = (a+b)/z  #Notice, z does not appear in the argument list. \n",
    "    return c,d"
   ]
  },
  {
   "cell_type": "code",
   "execution_count": null,
   "metadata": {
    "slideshow": {
     "slide_type": "fragment"
    },
    "tags": []
   },
   "outputs": [],
   "source": [
    "a = 1\n",
    "b = 2\n",
    "z = 3\n",
    "c,d = zum()\n",
    "print(c)\n",
    "print(d)"
   ]
  },
  {
   "cell_type": "markdown",
   "metadata": {
    "slideshow": {
     "slide_type": "fragment"
    }
   },
   "source": [
    "* This is bad practice.  I think in general, you should try to use arguments.   "
   ]
  },
  {
   "cell_type": "markdown",
   "metadata": {
    "slideshow": {
     "slide_type": "slide"
    },
    "tags": []
   },
   "source": [
    "## Global versus Local Namespace \n",
    "\n",
    "* Any function can see all the variables in the **global** namespace and use them in calculations. \n",
    "* *But it cannot manipulate them or change their values* \n",
    "* Any argument passed into the function can have its value changed inside the **local** namespace of the function, without changing its value in the global namespace. \n",
    "* Values of variables in the **global** namespace are only changed by returning the value and **replacing** the original value.  \n"
   ]
  },
  {
   "cell_type": "code",
   "execution_count": 24,
   "metadata": {
    "slideshow": {
     "slide_type": "slide"
    },
    "tags": []
   },
   "outputs": [],
   "source": [
    "def zum_a1(a,b):  #Here, a,b the argument. \n",
    "    a = a+1\n",
    "    d = (a+b)/z #Notice, z does not appear in the argument list.  \n",
    "    return d,a"
   ]
  },
  {
   "cell_type": "code",
   "execution_count": null,
   "metadata": {
    "slideshow": {
     "slide_type": "fragment"
    },
    "tags": []
   },
   "outputs": [],
   "source": [
    "a = 1\n",
    "b = 2\n",
    "z = 3\n",
    "c,e = zum_a1(a,b)\n",
    "print(c) #this is d inside the function \n",
    "print(e) #this is a inside the function \n",
    "print(a) #this is a in the global namespace"
   ]
  },
  {
   "cell_type": "markdown",
   "metadata": {
    "slideshow": {
     "slide_type": "slide"
    }
   },
   "source": [
    "* I could just choose to overwrite a value in the global name space "
   ]
  },
  {
   "cell_type": "code",
   "execution_count": null,
   "metadata": {
    "slideshow": {
     "slide_type": "fragment"
    },
    "tags": []
   },
   "outputs": [],
   "source": [
    "a = 1\n",
    "b = 2\n",
    "z = 3\n",
    "print(a) # this is a before the function \n",
    "c,a = zum_a1(a,b)\n",
    "print(c) #this is d inside the function \n",
    "print(a) # this is a after the function runs"
   ]
  },
  {
   "cell_type": "markdown",
   "metadata": {
    "slideshow": {
     "slide_type": "slide"
    },
    "tags": []
   },
   "source": [
    "### When do I use an argument?  \n",
    "* Almost always.  As good programming practice, I like to use arguments as much as possible\n",
    "\n",
    "### When do I prefer not to use an argument? \n",
    "* The main case is **data**. \n",
    "* data should never be changed. \n",
    "* If all your analysis is written in functions and the data remains global it cant be accidently changed.  "
   ]
  },
  {
   "cell_type": "markdown",
   "metadata": {
    "slideshow": {
     "slide_type": "slide"
    },
    "tags": []
   },
   "source": [
    "## Keyword Arguments \n",
    "\n",
    "There are two types of inputs to a function:\n",
    "* postional arguments - the variable corresponding to the argument is based on its position in the argument list. \n",
    "* keyword arguments - the variable corresponding to the argument is made explicit with an equality sign. \n"
   ]
  },
  {
   "cell_type": "markdown",
   "metadata": {
    "slideshow": {
     "slide_type": "slide"
    },
    "tags": []
   },
   "source": [
    "* In the example functions I made today, I only used positional arguments. \n",
    "* But actually I have made use of a keyword argument previously \n",
    "    \n",
    "        st = [1,2,3]\n",
    "        st_float = np.array(lst,dtype='float')\n",
    "\n",
    "* In the call to np.array, `st` is a positional argument which has the list we want to convert into an array  \n",
    "* `dtype = 'float'` is a **keyword** argument, where the **keyword** is `dtype` and the value is `'float'`"
   ]
  },
  {
   "cell_type": "markdown",
   "metadata": {
    "slideshow": {
     "slide_type": "fragment"
    },
    "tags": []
   },
   "source": [
    "* You can always use keyword arguments instead of positional arguments. \n",
    "* The advantages of keyword arguments are: \n",
    "1. you dont have to remember the order of the arguments.\n",
    "1. you can set **default** values"
   ]
  },
  {
   "cell_type": "markdown",
   "metadata": {
    "slideshow": {
     "slide_type": "slide"
    }
   },
   "source": [
    "* Any function can always be called with keyword arguments.  "
   ]
  },
  {
   "cell_type": "code",
   "execution_count": null,
   "metadata": {
    "slideshow": {
     "slide_type": "fragment"
    },
    "tags": []
   },
   "outputs": [],
   "source": [
    "def power_and_root(x,n):\n",
    "    y = x**n\n",
    "    z = x**(1/n)\n",
    "    return y,z \n",
    "\n",
    "y,z = power_and_root(x=9,n=2)\n",
    "print(y)\n",
    "print(z)\n",
    "y,z = power_and_root(n=2,x=9)  #now the order DOES NOT MATTER because I am making the variables explicit.  \n",
    "print(y)\n",
    "print(z)"
   ]
  },
  {
   "cell_type": "markdown",
   "metadata": {
    "slideshow": {
     "slide_type": "slide"
    }
   },
   "source": [
    "* You can even mix together positional and keyword arguments.  "
   ]
  },
  {
   "cell_type": "code",
   "execution_count": null,
   "metadata": {
    "slideshow": {
     "slide_type": "fragment"
    },
    "tags": []
   },
   "outputs": [],
   "source": [
    "y,z = power_and_root(9,n=2)\n",
    "print(y)\n",
    "print(z)"
   ]
  },
  {
   "cell_type": "markdown",
   "metadata": {
    "slideshow": {
     "slide_type": "slide"
    }
   },
   "source": [
    "* As soon as you use a keyword argument you can no longer use positional arguments. "
   ]
  },
  {
   "cell_type": "code",
   "execution_count": null,
   "metadata": {
    "scrolled": true,
    "slideshow": {
     "slide_type": "fragment"
    },
    "tags": []
   },
   "outputs": [],
   "source": [
    "y,z = power_and_root(x=9,2)\n",
    "print(y)\n",
    "print(z)"
   ]
  },
  {
   "cell_type": "markdown",
   "metadata": {
    "slideshow": {
     "slide_type": "slide"
    },
    "tags": []
   },
   "source": [
    "* Functions can be used with \n",
    "1. positional arguments alone.  In this case, you need to know the correct order. \n",
    "1. keyword arguments alone.  In this case you can provide them in any order. \n",
    "1. positional and keyword arguments.  In this case, positional arguments must come first then keyword arguments.  \n",
    "1. As soon as you make use of a keyword argument, you can no longer use positional arguments. "
   ]
  },
  {
   "cell_type": "markdown",
   "metadata": {
    "slideshow": {
     "slide_type": "slide"
    },
    "tags": []
   },
   "source": [
    "## Default values for arguments \n",
    "* The most useful thing about keyword arguments, is that they can be used to set default values of arguments in the function `def` statement.  \n",
    "* This means if you use a function with a particular argument most of the time, you can just ignore those arguments and let them assume predefined values. "
   ]
  },
  {
   "cell_type": "code",
   "execution_count": 30,
   "metadata": {
    "slideshow": {
     "slide_type": "fragment"
    }
   },
   "outputs": [],
   "source": [
    "def npower(x,n=2):  # notice that in the definition of the function, I provided a default value of n\n",
    "    y = x**n\n",
    "    return y"
   ]
  },
  {
   "cell_type": "markdown",
   "metadata": {
    "slideshow": {
     "slide_type": "fragment"
    }
   },
   "source": [
    "* When defining a function, you can determine **default** values of the arguments. \n",
    "* Then if those arguments are not provided the function will assume the default value applies. "
   ]
  },
  {
   "cell_type": "markdown",
   "metadata": {
    "slideshow": {
     "slide_type": "slide"
    }
   },
   "source": [
    "*In this example, I only provide the value of the base (**x**) and it automatically assumes the power **n** = 2 "
   ]
  },
  {
   "cell_type": "code",
   "execution_count": null,
   "metadata": {
    "slideshow": {
     "slide_type": "fragment"
    }
   },
   "outputs": [],
   "source": [
    "a = 3\n",
    "z = npower(a)\n",
    "print(z)"
   ]
  },
  {
   "cell_type": "markdown",
   "metadata": {
    "slideshow": {
     "slide_type": "slide"
    }
   },
   "source": [
    "* You can always override the default by passing an argument. "
   ]
  },
  {
   "cell_type": "code",
   "execution_count": null,
   "metadata": {
    "slideshow": {
     "slide_type": "fragment"
    }
   },
   "outputs": [],
   "source": [
    "#I can override the default with a keyword argument. \n",
    "z = npower(3,n=3)\n",
    "print(z)"
   ]
  },
  {
   "cell_type": "code",
   "execution_count": null,
   "metadata": {
    "slideshow": {
     "slide_type": "fragment"
    }
   },
   "outputs": [],
   "source": [
    "#I can override the default with a positional argument.\n",
    "z = npower(3,4)\n",
    "print(z)"
   ]
  },
  {
   "cell_type": "code",
   "execution_count": null,
   "metadata": {
    "slideshow": {
     "slide_type": "fragment"
    }
   },
   "outputs": [],
   "source": [
    "#But you must provide a value for x or it fails. \n",
    "z= npower(n=3)"
   ]
  }
 ],
 "metadata": {
  "kernelspec": {
   "display_name": "Python 3 (ipykernel)",
   "language": "python",
   "name": "python3"
  },
  "language_info": {
   "codemirror_mode": {
    "name": "ipython",
    "version": 3
   },
   "file_extension": ".py",
   "mimetype": "text/x-python",
   "name": "python",
   "nbconvert_exporter": "python",
   "pygments_lexer": "ipython3",
   "version": "3.12.4"
  }
 },
 "nbformat": 4,
 "nbformat_minor": 4
}
