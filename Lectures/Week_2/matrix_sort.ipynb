{
 "cells": [
  {
   "cell_type": "code",
   "execution_count": null,
   "metadata": {},
   "outputs": [],
   "source": []
  },
  {
   "cell_type": "markdown",
   "metadata": {},
   "source": [
    "## Matrix sort and the `axis`\n",
    "### What does sorting a matrix (or any array with more than one dimension) do? "
   ]
  },
  {
   "cell_type": "code",
   "execution_count": null,
   "metadata": {},
   "outputs": [],
   "source": [
    "M = rng.integers(1,7,(6,10)) # 6 by 10 matrix containing random numbers between 1 and 6 \n",
    "M_test = np.sort(M)\n",
    "print('M')\n",
    "print(M)\n",
    "print('M_test')\n",
    "print(M_test)"
   ]
  },
  {
   "cell_type": "markdown",
   "metadata": {},
   "source": [
    "### If we compare the two matrices, it looks like it took each row of M and applied a sort to it by *default*.\n",
    "### When sorting a matrix or higher dimension array, we can make explicit which dimension we want to apply the sort along. \n",
    "### Recall that in a matrix (2 dimensional array), the first dimension is the row and the second dimension is the columns \n",
    "### In python the first dimension *axis* is 0 for the row and the second dimension or *axis* is 1 for columns.  "
   ]
  },
  {
   "cell_type": "markdown",
   "metadata": {},
   "source": [
    "### Specifying axis = 0 sorted each column along the rows.\n",
    "### Specifying axis = 1 sorted each row along the columns. \n",
    "### The default behavior of `sort` is to sort along the last axis.\n",
    "### It's good practice to specify the *axis* along which you want to sort unless its a simple array. "
   ]
  },
  {
   "cell_type": "markdown",
   "metadata": {},
   "source": [
    "### If I need to sort one dimension of a matrix along descending order, I can use the sort function as above, and the `flip` function also specifying an axis "
   ]
  },
  {
   "cell_type": "code",
   "execution_count": null,
   "metadata": {},
   "outputs": [],
   "source": [
    "M_sorted_1 = np.flip(M_sorted_1,axis =1)\n",
    "print(M_sorted_1)"
   ]
  },
  {
   "cell_type": "code",
   "execution_count": null,
   "metadata": {},
   "outputs": [],
   "source": [
    "M_sorted_0 = np.sort(M, axis = 0) #sort each column \n",
    "M_sorted_1 = np.sort(M, axis = 1) #sort each row \n",
    "print('M_sorted_0')\n",
    "print(M_sorted_0)\n",
    "print('M_sorted_1')\n",
    "print(M_sorted_1)"
   ]
  }
 ],
 "metadata": {
  "language_info": {
   "name": "python"
  }
 },
 "nbformat": 4,
 "nbformat_minor": 2
}
