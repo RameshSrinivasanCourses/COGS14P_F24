{
 "cells": [
  {
   "cell_type": "markdown",
   "metadata": {
    "slideshow": {
     "slide_type": "slide"
    },
    "tags": []
   },
   "source": [
    "# **Lecture 7** Execution Control 1\n",
    "\n",
    "* One of the fundamental aspects of a program is *execution control*.  \n",
    "* This lecture will introduce `if`, `if-else`, and `if-elif-else`, conditional statements which control execution in a program. \n",
    "* This lecture will introduce the concept of repeated execution of a block of code in a **loop** with the `while` conditonal statement "
   ]
  },
  {
   "cell_type": "code",
   "execution_count": 1,
   "metadata": {
    "slideshow": {
     "slide_type": "fragment"
    },
    "tags": []
   },
   "outputs": [],
   "source": [
    "import numpy as np \n",
    "from numpy import random\n",
    "from matplotlib import pyplot as plt\n",
    "#\n",
    "rng = random.default_rng(seed = 1121)"
   ]
  },
  {
   "cell_type": "markdown",
   "metadata": {
    "slideshow": {
     "slide_type": "slide"
    },
    "tags": []
   },
   "source": [
    "## Conditional Statements: `if`\n",
    "\n",
    "* Conditionals are statements that evaluate a **logical statement**, using the `if` statement, and then only execute a set of code if the condition evaluates as True. "
   ]
  },
  {
   "cell_type": "code",
   "execution_count": null,
   "metadata": {
    "slideshow": {
     "slide_type": "fragment"
    },
    "tags": []
   },
   "outputs": [],
   "source": [
    "condition = True\n",
    "if condition:\n",
    "    print('This code executes if the condition evaluates as True.')"
   ]
  },
  {
   "cell_type": "code",
   "execution_count": null,
   "metadata": {
    "slideshow": {
     "slide_type": "fragment"
    },
    "tags": []
   },
   "outputs": [],
   "source": [
    "# equivalent to above\n",
    "if condition == True:\n",
    "    print('This code executes if the condition evaluates as True.')"
   ]
  },
  {
   "cell_type": "markdown",
   "metadata": {
    "slideshow": {
     "slide_type": "slide"
    }
   },
   "source": [
    "* If the conditional is not met, the code inside the `if` statement does not execute "
   ]
  },
  {
   "cell_type": "code",
   "execution_count": null,
   "metadata": {
    "slideshow": {
     "slide_type": "fragment"
    },
    "tags": []
   },
   "outputs": [],
   "source": [
    "sign = \"unknown\"\n",
    "n = 1 \n",
    "if n > 0:\n",
    "    sign = 'positive'\n",
    "print(sign)"
   ]
  },
  {
   "cell_type": "code",
   "execution_count": null,
   "metadata": {
    "slideshow": {
     "slide_type": "slide"
    }
   },
   "outputs": [],
   "source": [
    "sign = \"unknown\"\n",
    "n = -1 \n",
    "if n > 0:\n",
    "    sign = 'positive'\n",
    "print(sign)"
   ]
  },
  {
   "cell_type": "markdown",
   "metadata": {
    "slideshow": {
     "slide_type": "fragment"
    }
   },
   "source": [
    "* Notice this version doesnt print anything! This is because the print command is inside the if statement (look at the indentation). And the condition is not met.  "
   ]
  },
  {
   "cell_type": "code",
   "execution_count": 6,
   "metadata": {
    "slideshow": {
     "slide_type": "fragment"
    }
   },
   "outputs": [],
   "source": [
    "sign = \"unknown\"\n",
    "n = -1 \n",
    "if n > 0:\n",
    "    sign = 'positive'\n",
    "    print(sign)"
   ]
  },
  {
   "cell_type": "markdown",
   "metadata": {
    "slideshow": {
     "slide_type": "slide"
    },
    "tags": []
   },
   "source": [
    "### Syntax notes `if`\n",
    "\n",
    "* There are important pieces to the synatax \n",
    "1. the logical statement leads with an `if` statement \n",
    "1. the logical statement is followed by a colon `:`\n",
    "1. the code to be executed if the conditional statement is met is indented. \n",
    "\n",
    "* Indentation facilitates clearly understanding of the hierarchy of execution control. "
   ]
  },
  {
   "cell_type": "markdown",
   "metadata": {
    "slideshow": {
     "slide_type": "fragment"
    },
    "tags": []
   },
   "source": [
    "Table of Comparison Operations\n",
    "\n",
    "* A logical statement almost always involves comparisons. Examples of comparisons that come to mind might be \n",
    "1. `==` - equal                    \n",
    "1. `!=` - not equal                \n",
    "1. `>`  - greater than             \n",
    "1. `>=` - greater than or equal    \n",
    "1. `<`  - less than                \n",
    "1. `<=` - less than or equal       "
   ]
  },
  {
   "cell_type": "markdown",
   "metadata": {
    "slideshow": {
     "slide_type": "slide"
    },
    "tags": []
   },
   "source": [
    "### Logical Operators for Execution Control\n",
    "\n",
    "* The results of logical operations **MUST** return a *single* value of **True** or **False** can also be used in execution control with an if statement.  \n",
    "* Logical operations on arrays will often return Boolean arrays that contain the result of a comparison operator applied to each element of the array.   \n",
    "* These can be combined in  execution control by \n",
    "1. `np.any` - check if any of the of elements of an array are True \n",
    "1. `np.all` - check if all of the elements of an array are True\n",
    "  "
   ]
  },
  {
   "cell_type": "code",
   "execution_count": null,
   "metadata": {
    "slideshow": {
     "slide_type": "slide"
    },
    "tags": []
   },
   "outputs": [],
   "source": [
    "# Example 1 \n",
    "array_a = rng.integers(-10,10,20)\n",
    "print(array_a)\n",
    "if np.any(array_a < 0):\n",
    "    print('There were negative numbers')\n"
   ]
  },
  {
   "cell_type": "code",
   "execution_count": null,
   "metadata": {
    "slideshow": {
     "slide_type": "fragment"
    },
    "tags": []
   },
   "outputs": [],
   "source": [
    "#what happens when the logical statement is false.  \n",
    "array_a = rng.integers(-10,10,20)\n",
    "print(array_a)\n",
    "#I changed any to all\n",
    "if np.all(array_a < 0):\n",
    "    print('All numbers were negative numbers')\n",
    "#Nothing!"
   ]
  },
  {
   "cell_type": "markdown",
   "metadata": {
    "slideshow": {
     "slide_type": "slide"
    },
    "tags": []
   },
   "source": [
    "### Conditional statements: `else`\n",
    "* After an if, you can use an `else` that will run if the logical statement was **False** and the conditional statement was not met. \n",
    "* **Only one of the blocks of code will run**.  The logical statement can only return one of **True** or **False**"
   ]
  },
  {
   "cell_type": "code",
   "execution_count": null,
   "metadata": {
    "slideshow": {
     "slide_type": "fragment"
    },
    "tags": []
   },
   "outputs": [],
   "source": [
    "condition = False\n",
    "if condition:\n",
    "    print('This code executes if the condition evaluates as True.')\n",
    "else: \n",
    "    print('This code executes if the condition evaluates as False')"
   ]
  },
  {
   "cell_type": "code",
   "execution_count": null,
   "metadata": {
    "slideshow": {
     "slide_type": "slide"
    },
    "tags": []
   },
   "outputs": [],
   "source": [
    "array_a = rng.integers(-10,10,20)\n",
    "if np.all(array_a < 0):\n",
    "    print('All numbers were negative numbers')\n",
    "else:\n",
    "    print('At least one number was a positive number')"
   ]
  },
  {
   "cell_type": "code",
   "execution_count": null,
   "metadata": {
    "slideshow": {
     "slide_type": "fragment"
    },
    "tags": []
   },
   "outputs": [],
   "source": [
    "array_a = rng.integers(-10,10,20)\n",
    "if np.all(array_a < 0):\n",
    "    print('All numbers were negative numbers')\n",
    "else:\n",
    "    print('At least one number was zero or a positive number')\n",
    "    n_notnegative = np.sum(array_a >= 0)\n",
    "    print('Not negative: ', n_notnegative)"
   ]
  },
  {
   "cell_type": "markdown",
   "metadata": {
    "slideshow": {
     "slide_type": "slide"
    },
    "tags": []
   },
   "source": [
    "### Syntax notes `else`\n",
    "\n",
    "* Notice that the `else` statement is itself a conditional statement.  Thus, it is completed with a colon `:`\n",
    "* **implicit** - the complement of the if statement.  \n",
    "* Notice also, that the structure of an if-else statement can have multiple lines of code under each conditional statement \n",
    "\n",
    "    if logical statement: \n",
    "        do this  #CODE BLOCK EXECUTES ONLY IF LOGICAL STATEMENT IS TRUE \n",
    "        and this \n",
    "        and this \n",
    "    else:\n",
    "        do this  #CODE BLOCK EXECUTES ONLY IF LOGICAL STATEMENT IS FALSE\n",
    "        and this\n",
    "        and this\n",
    "\n"
   ]
  },
  {
   "cell_type": "markdown",
   "metadata": {
    "slideshow": {
     "slide_type": "slide"
    },
    "tags": []
   },
   "source": [
    "### Conditional Statements: `elif`\n",
    "* Multiple **non-overlapping** conditional statements can be organized together using an `elif` statement.\n",
    "* `elif` combines else and if into one statement. "
   ]
  },
  {
   "cell_type": "code",
   "execution_count": null,
   "metadata": {
    "slideshow": {
     "slide_type": "fragment"
    },
    "tags": []
   },
   "outputs": [],
   "source": [
    "condition_1 = True\n",
    "condition_2 = True\n",
    "\n",
    "if condition_1:\n",
    "    print('This code executes if condition_1 evaluates as True.')\n",
    "elif condition_2:\n",
    "    print('This code executes if condition_1 did not evaluate as True, but condition_2 does.')\n",
    "else: \n",
    "    print('This code executes if both condition_1 and condition_2 evaluate as False')"
   ]
  },
  {
   "cell_type": "markdown",
   "metadata": {
    "slideshow": {
     "slide_type": "fragment"
    }
   },
   "source": [
    "* Notice that the block of code above never evaluated condition_2, because the evaluations are in serial order.\n",
    "* once the conditional in the if statement is **True** *the remaining statements are never evaluated*"
   ]
  },
  {
   "cell_type": "code",
   "execution_count": null,
   "metadata": {
    "slideshow": {
     "slide_type": "slide"
    }
   },
   "outputs": [],
   "source": [
    "condition_1 = False\n",
    "condition_2 = True\n",
    "\n",
    "if condition_1:\n",
    "    print('This code executes if condition_1 evaluates as True.')\n",
    "elif condition_2:\n",
    "    print('This code executes if condition_1 did not evaluate as True, but condition_2 does.')\n",
    "else: \n",
    "    print('This code executes if both condition_1 and condition_2 evaluate as False')"
   ]
  },
  {
   "cell_type": "markdown",
   "metadata": {
    "slideshow": {
     "slide_type": "fragment"
    }
   },
   "source": [
    "* In this case, because condition_1 is **False** condition_2 is tested, and evaluates **True**. "
   ]
  },
  {
   "cell_type": "code",
   "execution_count": null,
   "metadata": {
    "slideshow": {
     "slide_type": "slide"
    }
   },
   "outputs": [],
   "source": [
    "condition_1 = False\n",
    "condition_2 = False\n",
    "\n",
    "if condition_1:\n",
    "    print('This code executes if condition_1 evaluates as True.')\n",
    "elif condition_2:\n",
    "    print('This code executes if condition_1 did not evaluate as True, but condition_2 does.')\n",
    "else: \n",
    "    print('This code executes if both condition_1 and condition_2 evaluate as False')"
   ]
  },
  {
   "cell_type": "markdown",
   "metadata": {},
   "source": [
    "* Now we make it to the `else`.  "
   ]
  },
  {
   "cell_type": "markdown",
   "metadata": {
    "slideshow": {
     "slide_type": "slide"
    },
    "tags": []
   },
   "source": [
    "### `elif` without an `else`\n",
    "\n",
    "* An `else` statement is not required, but if both the `if` and the `elif` condtions are not met (both evaluate as **False**), then nothing is returned.\n"
   ]
  },
  {
   "cell_type": "code",
   "execution_count": null,
   "metadata": {
    "slideshow": {
     "slide_type": "fragment"
    },
    "tags": []
   },
   "outputs": [],
   "source": [
    "condition_1 = False\n",
    "condition_2 = True\n",
    "\n",
    "if condition_1:\n",
    "    print('This code executes if condition_1 evaluates as True.')\n",
    "elif condition_2:\n",
    "    print('This code executes if condition_1 did not evaluate as True, but condition_2 does.')"
   ]
  },
  {
   "cell_type": "code",
   "execution_count": 16,
   "metadata": {
    "slideshow": {
     "slide_type": "fragment"
    }
   },
   "outputs": [],
   "source": [
    "condition_1 = False\n",
    "condition_2 = False\n",
    "\n",
    "if condition_1:\n",
    "    print('This code executes if condition_1 evaluates as True.')\n",
    "elif condition_2:\n",
    "    print('This code executes if condition_1 did not evaluate as True, but condition_2 does.')"
   ]
  },
  {
   "cell_type": "markdown",
   "metadata": {
    "slideshow": {
     "slide_type": "slide"
    },
    "tags": []
   },
   "source": [
    "* `elif` after an `else` does not make logical sense since `else` is the complement of `if`\n",
    "* The order will always be `if-elif-else`...with only the `if` being required. \n",
    "* If the `elif` is at the end...it will never be tested, as the else will have already returned a value once reached (and thus Python will throw an error)."
   ]
  },
  {
   "cell_type": "code",
   "execution_count": null,
   "metadata": {
    "slideshow": {
     "slide_type": "fragment"
    },
    "tags": []
   },
   "outputs": [],
   "source": [
    "## THIS CODE WILL PRODUCE AN ERROR\n",
    "condition_1 = False\n",
    "condition_2 = False\n",
    "\n",
    "if condition_1:\n",
    "    print('This code executes if condition_1 evaluates as True.')\n",
    "else: \n",
    "    print('This code executes if both condition_1 and condition_2 evaluate as False')\n",
    "elif condition_2:\n",
    "    print('This code executes if condition_1 did not evaluate as True, but condition_2 does.')"
   ]
  },
  {
   "cell_type": "markdown",
   "metadata": {
    "slideshow": {
     "slide_type": "slide"
    }
   },
   "source": [
    "* Don't trust python to find your mistakes. \n",
    "* Python will not always produce an error and will frequently allow you to write nonsense. "
   ]
  },
  {
   "cell_type": "code",
   "execution_count": null,
   "metadata": {
    "scrolled": true,
    "slideshow": {
     "slide_type": "fragment"
    },
    "tags": []
   },
   "outputs": [],
   "source": [
    "\n",
    "if 1+1 == 2:\n",
    "    print(\"I did Math\")\n",
    "elif 1/0:\n",
    "    print(\"I broke Math\")\n",
    "else:\n",
    "    print(\"I didn't do math\")\n",
    "# Python is an interpreted language.  it is not testing all your code before executing.  \n",
    "# It is interpeting it line by line while executing it. "
   ]
  },
  {
   "cell_type": "code",
   "execution_count": null,
   "metadata": {},
   "outputs": [],
   "source": [
    "if 1/0:\n",
    "    print(\"I did Math\")\n",
    "elif 1+1 == 2:\n",
    "    print(\"I broke Math\")\n",
    "else:\n",
    "    print(\"I didn't do math\")\n",
    "# Python is an interpreted language.  it is not testing all your code before executing.  \n",
    "# It is interpeting it line by line while executing it. "
   ]
  },
  {
   "cell_type": "markdown",
   "metadata": {
    "slideshow": {
     "slide_type": "slide"
    },
    "tags": []
   },
   "source": [
    "### Syntax notes `elif`\n",
    "\n",
    "    if logical statement 1: \n",
    "        do this  #CODE BLOCK EXECUTES ONLY IF LOGICAL STATEMENT 1 IS TRUE \n",
    "        and this \n",
    "        and this \n",
    "    elif logical statement 2: #THIS ONLY EVALUATES IF LOGICAL STATEMENT 1 IS FALSE\n",
    "        do this  #CODE BLOCK EXECUTES ONLY IF LOGICAL STATMENT 2 is TRUE\n",
    "        and this\n",
    "        and this\n",
    "    else:\n",
    "        do this  #CODE BLOCK EXECUTES ONLY IF LOGICAL STATEMENT 1 and LOGICAL STATEMENT 2 IS FALSE\n",
    "        and this\n",
    "        and this\n",
    "\n",
    "* An important implication of using the `if-elif-else` for execution control is to have a clear understanding of  the relationship between logical statement 1 and logical statement 2.   \n",
    "* You should think about this in terms of sets and subsets.  There is a subset that meets the conditions of logical statement 1.  If that is **True** , *logical statement 2 is never evaluated* \n",
    "* Thus *implicitly* in the above bit of code, the `elif` statement should be read (in your mind) as \n",
    "\n",
    "    elif (logical statement 2) & ~ (logical statement 1) "
   ]
  },
  {
   "cell_type": "markdown",
   "metadata": {
    "slideshow": {
     "slide_type": "slide"
    }
   },
   "source": [
    "### This is a logically screwed up set of statements. DONT DO THIS! "
   ]
  },
  {
   "cell_type": "code",
   "execution_count": null,
   "metadata": {
    "slideshow": {
     "slide_type": "fragment"
    },
    "tags": []
   },
   "outputs": [],
   "source": [
    "\n",
    "n = 6\n",
    "if n < 10:\n",
    "    print('single digit')\n",
    "elif n > 5:\n",
    "    print('greater than 5')\n",
    "else:\n",
    "    print('double digit number')\n",
    " "
   ]
  },
  {
   "cell_type": "markdown",
   "metadata": {
    "slideshow": {
     "slide_type": "fragment"
    }
   },
   "source": [
    "* The problem with the above block of code is that a subsets of integers meet the criterion overlap.  \n",
    "* if n is 6,7,8,9 it evaluates **TRUE** for `if` and **TRUE** for `elif`, but only the `if` block executes. \n",
    "* Also, if n >= 10 it meets the `elif` criteria the complement of the `if` and only the first one executes."
   ]
  },
  {
   "cell_type": "markdown",
   "metadata": {
    "slideshow": {
     "slide_type": "slide"
    },
    "tags": []
   },
   "source": [
    "### Properties of conditionals\n",
    "\n",
    "- All conditionals start with an `if`, can have an optional and variable number of `elif`'s and an optional `else` statement\n",
    "- Conditionals can take any expression that can be evaluated as `True` or `False`. \n",
    "- At most one component (`if` / `elif` / `else`) of a conditional will run\n",
    "- The order of conditional blocks is always `if` then `elif`(s) then `else`\n",
    "- Code is only ever executed if the condition is met\n",
    "- The first condition met is executed.  Other condiitons will not be evaluated. "
   ]
  },
  {
   "cell_type": "markdown",
   "metadata": {
    "slideshow": {
     "slide_type": "slide"
    },
    "tags": []
   },
   "source": [
    "### Compound conditional statements \n",
    "\n",
    "* The only requirement on the logical statement that makes the conditional `if` statement is that can return either **True** or **False**.  \n",
    "* We can make compound conditional statements using Boolean Operators `&` (and) `|` (or)\n",
    "1. & - (and) to require two (or more) Conditional Statements are True \n",
    "1. | - (or) to require that at least one of two (or more) Contional Statements are True\n",
    "* When you do this you **must** place each individual comparison operator **inside parenthesis**.  "
   ]
  },
  {
   "cell_type": "code",
   "execution_count": null,
   "metadata": {
    "slideshow": {
     "slide_type": "slide"
    },
    "tags": []
   },
   "outputs": [],
   "source": [
    "n = 8 \n",
    "if (n%2 == 1) | (n > 10):\n",
    "    print('Either odd or Larger than 10')\n",
    "else:\n",
    "    print('Even and less than or equal to 10')\n",
    "    \n",
    "     "
   ]
  },
  {
   "cell_type": "markdown",
   "metadata": {
    "slideshow": {
     "slide_type": "fragment"
    }
   },
   "source": [
    "* Note that the opposite of an OR (`|`) conditional boolean operator is an AND (`&`)."
   ]
  },
  {
   "cell_type": "code",
   "execution_count": null,
   "metadata": {
    "slideshow": {
     "slide_type": "slide"
    },
    "tags": []
   },
   "outputs": [],
   "source": [
    "n = 17 \n",
    "if (n%2 == 0) & (n > 10):\n",
    "    print('Even and Larger than 10')\n",
    "else:\n",
    "    print('Either odd or less than or equal to 10')\n",
    "    \n",
    "   "
   ]
  },
  {
   "cell_type": "markdown",
   "metadata": {
    "slideshow": {
     "slide_type": "fragment"
    }
   },
   "source": [
    "* Note that the opposite of an AND (`&`) conditional boolean operator in an OR (`|`). "
   ]
  },
  {
   "cell_type": "markdown",
   "metadata": {
    "slideshow": {
     "slide_type": "slide"
    },
    "tags": []
   },
   "source": [
    "### Nested conditional statements \n",
    "* Another option for execution control with combined conditions is to nest `if-elif-else` statements. \n",
    "* This structure allows for more flexible options in the output than the compound conditional statement. "
   ]
  },
  {
   "cell_type": "code",
   "execution_count": null,
   "metadata": {
    "slideshow": {
     "slide_type": "fragment"
    },
    "tags": []
   },
   "outputs": [],
   "source": [
    "n = 17 \n",
    "if n%2 == 0:   #Everything inside here is even\n",
    "    if n > 10:\n",
    "        print('Even and larger than 10')\n",
    "    else:\n",
    "        print('Even and smaller than or equal to 10')\n",
    "else:         #Everything inside here is not even, i.e., odd.  \n",
    "    if n > 10:\n",
    "        print('Odd and larger than 10')\n",
    "    else:\n",
    "        print('Odd and smaller than or equal to 10')\n"
   ]
  },
  {
   "cell_type": "markdown",
   "metadata": {
    "slideshow": {
     "slide_type": "slide"
    },
    "tags": []
   },
   "source": [
    "### Syntax notes - nested conditional statements\n",
    "\n",
    "* Notice that if you nest conditional statements you have to be careful about indentation.  Indentation determines which conditional statement is associated with the code block. \n",
    "\n",
    "        if logical statement 1: \n",
    "            if logical statement 2: # CODE BLOCK EXECUTES ONLY IF LOGICAL STATEMENT 1 AND LOGICAL STATEMENT 2 IS TRUE \n",
    "                do this  \n",
    "                and this \n",
    "                and this\n",
    "        else: # CODE BLOCK EXECUTES ONLY IF LOGICAL STATEMENT 1 IS TRUE AND LOGICAL STATEMENT 2 IS FALSE\n",
    "                do this\n",
    "                and this \n",
    "                and this \n",
    "        else:\n",
    "            if logical statement 2: # CODE BLOCK EXECUTES ONLY IF LOGICAL STATEMENT 1 IS FALSE AND LOGICAL STATEMENT 2 IS TRUE \n",
    "                do this  \n",
    "                and this \n",
    "                and this\n",
    "            else: # CODE BLOCK EXECUTES ONLY IF LOGICAL STATEMENT 1 IS FALSE AND LOGICAL STATEMENT 2 IS FALSE\n",
    "                do this\n",
    "                and this \n",
    "                and this \n"
   ]
  },
  {
   "cell_type": "markdown",
   "metadata": {
    "slideshow": {
     "slide_type": "slide"
    },
    "tags": []
   },
   "source": [
    "### When do I need to use if-elif-else?\n",
    "* It is rare to need to use execution control in data analysis or visualization.\n",
    "* Usually if you do that you've written bad code that runs slowly and failed to use array methods. \n",
    "* I would be disappointed. \n",
    "* But is very common in programs that control experiments.    "
   ]
  },
  {
   "cell_type": "markdown",
   "metadata": {
    "slideshow": {
     "slide_type": "slide"
    },
    "tags": []
   },
   "source": [
    "* Let's make a grading example.  Suppose I want to write a bit of code to assign a letter grade.  \n",
    "* grades between  \n",
    "1. 87.5 and 100 are A\n",
    "1. 75 and 87.5 are B\n",
    "1. below 75 are C"
   ]
  },
  {
   "cell_type": "code",
   "execution_count": null,
   "metadata": {
    "slideshow": {
     "slide_type": "fragment"
    },
    "tags": []
   },
   "outputs": [],
   "source": [
    "grade = 85\n",
    "if grade > 87.5:\n",
    "    lettergrade = 'A'\n",
    "elif grade > 75:\n",
    "    lettergrade = 'B'\n",
    "else:\n",
    "    lettergrade = 'C'\n",
    "print(grade,' ',lettergrade)"
   ]
  },
  {
   "cell_type": "markdown",
   "metadata": {
    "slideshow": {
     "slide_type": "fragment"
    }
   },
   "source": [
    "In setting up if-elif-else statements its quite important to think through the order of the conditional statements.  "
   ]
  },
  {
   "cell_type": "markdown",
   "metadata": {
    "slideshow": {
     "slide_type": "slide"
    }
   },
   "source": [
    "## Execution Control with **Loops**\n",
    "\n",
    "* Loops are a fundamental construct of execution control. Loops are a way of controlling *repetition* of code, i.e., allow the same block of code to run multiple times. "
   ]
  },
  {
   "cell_type": "markdown",
   "metadata": {
    "slideshow": {
     "slide_type": "slide"
    }
   },
   "source": [
    "## `While` Loops\n",
    "\n",
    "* A `while` loop is a type of loop that runs as long as a *logical statement* is **True**. \n",
    "* When the logical condition becomes **False**, the code stops running. \n",
    "* The general form of a while loop in Python is below:\n",
    "\n",
    "1. The while loop begins with a logical statement that tests a **variable** which initially returs be of value **True**\n",
    "2. There is an indented block of code inside the while loop. \n",
    "3. Within that code block there must be something that updates the value of the **variable** \n",
    " \n",
    "        while logical_statement: \n",
    "            do this\n",
    "            and that\n",
    "            and that \n",
    "            AND YOU MUST DO SOMETHING THAT POSSIBLY CHANGES \n",
    "            THE STATE OF THE LOGICAL STATEMENT TO FALSE\n",
    "\n",
    "* Eventually, after one or more repetitions of the block of code, the logical statement returns a value **False** and the block of code no longer executes. "
   ]
  },
  {
   "cell_type": "code",
   "execution_count": null,
   "metadata": {
    "slideshow": {
     "slide_type": "slide"
    }
   },
   "outputs": [],
   "source": [
    "# Example 1\n",
    "i = 0   #since i is the variable tested n the logical statement, it must be set to an initial value \n",
    "while i<4:  # this is the conditional statement which controls execution\n",
    "    print(i)\n",
    "    i = i+1 #this is a critical line, as it updates the value of i"
   ]
  },
  {
   "cell_type": "markdown",
   "metadata": {
    "slideshow": {
     "slide_type": "slide"
    }
   },
   "source": [
    "### CRITICAL STEP IN WHILE LOOPS\n",
    "\n",
    "* There are three critical pieces to constructing a while loop.  \n",
    "1. The variable(s) that will be used in the logical statement must be initialized to some value.   \n",
    "2. A `while` statement performs execution control based on a logical statement that tests the variables being **True**.  \n",
    "3. Inside the `while` loop, the variable(s) used in the logical statement must eventually be updated to a value that evaluates **False**  \n",
    "\n",
    "* When making use of a `while` loop it is critical that there always be a line inside the while loop that updates whatever is being tested by the logical statement. \n",
    "* If that line is missing, the while loop will become an **infinite** loop and the code will only stop by an act of ***VIOLENCE***  by you against the code block, your VS Code instance, or in a worst case, against your computer (hard reboot).  "
   ]
  },
  {
   "cell_type": "markdown",
   "metadata": {
    "slideshow": {
     "slide_type": "slide"
    }
   },
   "source": [
    "### Boolean Indicator Control\n",
    "* Sometimes, its easy to think about this by using a Boolean Indicator variable to control the while loop. \n",
    "* Here I rewrite the loop above with an indicator variable. "
   ]
  },
  {
   "cell_type": "code",
   "execution_count": null,
   "metadata": {
    "slideshow": {
     "slide_type": "fragment"
    }
   },
   "outputs": [],
   "source": [
    "i = 0\n",
    "keep_looping = True\n",
    "while keep_looping:\n",
    "    print(i)\n",
    "    i = i+1\n",
    "    if i >= 4:\n",
    "        keep_looping = False\n"
   ]
  },
  {
   "cell_type": "markdown",
   "metadata": {
    "slideshow": {
     "slide_type": "slide"
    }
   },
   "source": [
    "###  Counters\n",
    "* In many instances, we want to keep track of the number of times the block of code is executed by the loop using a counter. "
   ]
  },
  {
   "cell_type": "markdown",
   "metadata": {
    "slideshow": {
     "slide_type": "slide"
    }
   },
   "source": [
    "### Example Sum of Random Numbers to a Limit. \n",
    "* This example shows a classical type of problem we often encounted in modeling and simulation.\n",
    "* We want to execute some code until a variable reaches a critical value.   \n"
   ]
  },
  {
   "cell_type": "code",
   "execution_count": null,
   "metadata": {
    "slideshow": {
     "slide_type": "fragment"
    }
   },
   "outputs": [],
   "source": [
    "limit = 100  #set the limit \n",
    "total = 0  #start at 0\n",
    "nsamples = 0 #start a counter to keep track of the number of samples\n",
    "while total < limit:\n",
    "    sample = rng.integers(0,10) #get one random number from a normal distribution\n",
    "    total = total + sample  # this updates the value of total \n",
    "    nsamples = nsamples + 1 # this keeps track of the number of samples taken\n",
    "print('total = ',total)\n",
    "print('nsamples = ',nsamples)"
   ]
  },
  {
   "cell_type": "markdown",
   "metadata": {
    "slideshow": {
     "slide_type": "slide"
    }
   },
   "source": [
    "* I could save a bit more information from this loop, by actually saving out the running values of total on each step."
   ]
  },
  {
   "cell_type": "code",
   "execution_count": null,
   "metadata": {
    "slideshow": {
     "slide_type": "fragment"
    }
   },
   "outputs": [],
   "source": [
    "\n",
    "limit = 100  #set the limit \n",
    "total = 0  #start at 0\n",
    "totallist = list() # a list to keep track of the values on each iteration of the loop. \n",
    "nsamples = 0 #start a counter to keep track of the number of samples\n",
    "while total < limit:\n",
    "    nsamples = nsamples + 1 # this keeps track of the number of samples taken\n",
    "    sample = rng.integers(0,10) #get one random number from a normal distribution\n",
    "    total = total + sample  # this updates the value of total \n",
    "    totallist.append(total) # I append the current value of total to the list.  \n",
    "print('total = ',total)\n",
    "print('nsamples = ',nsamples)\n",
    "print('totallist = ', totallist)"
   ]
  },
  {
   "cell_type": "code",
   "execution_count": null,
   "metadata": {
    "slideshow": {
     "slide_type": "slide"
    }
   },
   "outputs": [],
   "source": [
    "numberofsamples = np.arange(1,nsamples+1)\n",
    "fig = plt.figure(figsize = (3,2)) # I selected the figure dimension here \n",
    "ax = fig.add_axes([0,0,1,1])\n",
    "ax.plot(numberofsamples,totallist)  # i use the quick an dirty way to make a plot here\n",
    "ax.set_xlabel('number of samples',fontsize = 12)\n",
    "ax.set_ylabel('Total Value',fontsize = 12)\n",
    "plt.grid(True)\n",
    "plt.show()"
   ]
  },
  {
   "cell_type": "markdown",
   "metadata": {
    "slideshow": {
     "slide_type": "slide"
    }
   },
   "source": [
    "### Example  When will I have a million dollars?  \n",
    "\n",
    "* Suppose you have 20000 (or 2E04) dollars.  You put in the bank, and each year they give you 5% interest (compounded annually).  \n",
    "* How many years will it take for you to have more than one million (1000000 or 1E06) dollars. "
   ]
  },
  {
   "cell_type": "code",
   "execution_count": null,
   "metadata": {
    "slideshow": {
     "slide_type": "fragment"
    }
   },
   "outputs": [],
   "source": [
    "### What is the answer to the question? In terms of the code?\n",
    "interest = 0.05 # interest rate \n",
    "balance = 20000 # starting balance 1E04\n",
    "nyears = 0 \n",
    "target = 1000000 # 1E06\n",
    "while balance <= target: #Execute the block as long as my balance is less than or equal to target!  \n",
    "    balance = balance+interest*balance\n",
    "    nyears = nyears+1\n",
    "print('Balance of ', balance, 'after ', nyears, 'years')\n",
    "    "
   ]
  },
  {
   "cell_type": "markdown",
   "metadata": {},
   "source": [
    "* This type of **accumulator** model will show up in Cognitive Science classes on Decision Making.  "
   ]
  }
 ],
 "metadata": {
  "interpreter": {
   "hash": "fda1d92c402c9d5e0550eab7f590eb1c0582e487619314e6aa12d68c281f0580"
  },
  "kernelspec": {
   "display_name": "Python 3 (ipykernel)",
   "language": "python",
   "name": "python3"
  },
  "language_info": {
   "codemirror_mode": {
    "name": "ipython",
    "version": 3
   },
   "file_extension": ".py",
   "mimetype": "text/x-python",
   "name": "python",
   "nbconvert_exporter": "python",
   "pygments_lexer": "ipython3",
   "version": "3.12.4"
  }
 },
 "nbformat": 4,
 "nbformat_minor": 4
}
