{
 "cells": [
  {
   "cell_type": "markdown",
   "metadata": {
    "slideshow": {
     "slide_type": "slide"
    },
    "tags": []
   },
   "source": [
    "# **Lecture** Execution Control with `For` Loops\n",
    "\n",
    "- Loops are a fundamental construct of execution control. \n",
    "\n",
    "- Loops are a way of controlling repetition of code, i.e., allow the same piece of code to run multiple times. \n",
    "\n"
   ]
  },
  {
   "cell_type": "markdown",
   "metadata": {
    "slideshow": {
     "slide_type": "slide"
    }
   },
   "source": [
    " \n"
   ]
  },
  {
   "cell_type": "code",
   "execution_count": 3,
   "metadata": {
    "slideshow": {
     "slide_type": "fragment"
    },
    "tags": []
   },
   "outputs": [],
   "source": [
    "import numpy as np \n",
    "from numpy import random\n",
    "#Lets start the random number generator\n",
    "rng = random.default_rng(seed = 9876)\n",
    "from matplotlib import pyplot as plt\n"
   ]
  },
  {
   "cell_type": "markdown",
   "metadata": {},
   "source": [
    "### Decoding the problem \n",
    "\n",
    "The hardest part of using various forms of execution control is decoding the problem.  That is, you have to look at the problem, as words in human terms, and map it onto an **algorithm** that you can implement on a computer.  "
   ]
  },
  {
   "cell_type": "markdown",
   "metadata": {
    "slideshow": {
     "slide_type": "slide"
    }
   },
   "source": [
    "* The bank balance problem \n",
    "\n",
    "Compute the annual balance of a bank account with an initial deposit of $10000 and annually compounded interest at a fixed rate of 5% until the balance reaches a target.  We wannt to know the annual balance, and the number of years to reach the target.\n"
   ]
  },
  {
   "cell_type": "markdown",
   "metadata": {},
   "source": [
    "* The bank balance problem \n",
    "\n",
    "Compute the annual **balance** of a bank account with an initial **deposit** of $10000 and annually compounded interest at a fixed **rate** of 5% until the balance reaches a **target**.  We want to know the annual balance, and the number of **years** to reach the **target**."
   ]
  },
  {
   "cell_type": "code",
   "execution_count": 4,
   "metadata": {},
   "outputs": [],
   "source": [
    "interest = 0.05 # interest rate \n",
    "balance = 10000 # starting balance 1E04\n",
    "annual = list()\n",
    "annual.append(balance)\n",
    "nyears = 0 \n",
    "target = 1000000 # 1E06\n",
    "while balance <= target: #Execute the block as long as my balance is less than or equal to target!  \n",
    "    balance = balance+interest*balance\n",
    "    nyears = nyears+1\n",
    "    annual.append(balance)"
   ]
  },
  {
   "cell_type": "code",
   "execution_count": 5,
   "metadata": {},
   "outputs": [
    {
     "name": "stdout",
     "output_type": "stream",
     "text": [
      "95\n",
      "1030346.7644609454\n"
     ]
    }
   ],
   "source": [
    "print(nyears) #number of years \n",
    "print(balance) # final balance "
   ]
  },
  {
   "cell_type": "markdown",
   "metadata": {
    "slideshow": {
     "slide_type": "slide"
    }
   },
   "source": [
    "### `for` and `while` loop\n",
    "\n",
    "- Two repetion structures in Python are `for` loops and `while` loops. \n",
    "\n",
    "- `for` loops run a set number of times.  In a typical application, a block of code needs to be applied to the elements of a list or an array or list one at a time.    *The number of repetitions of the code is determined in advance*. \n",
    "\n",
    "- `while` loops run as long as a specific logical condition is true. The key difference between `while` and `for` loops is that *the number of repetitions in a while loop is unknown*"
   ]
  },
  {
   "cell_type": "code",
   "execution_count": 6,
   "metadata": {
    "slideshow": {
     "slide_type": "slide"
    }
   },
   "outputs": [
    {
     "name": "stdout",
     "output_type": "stream",
     "text": [
      "0\n",
      "1\n",
      "2\n",
      "3\n"
     ]
    }
   ],
   "source": [
    "#Example 1\n",
    "i = 0   #since i is the variable tested n the logical statement, it must be set to an initial value \n",
    "while i<4:  # this is the conditional statement which controls execution\n",
    "    print(i)\n",
    "    i = i+1 #this is a critical line, as it updates the value of i"
   ]
  },
  {
   "cell_type": "markdown",
   "metadata": {
    "slideshow": {
     "slide_type": "fragment"
    }
   },
   "source": [
    "- To express the same operations as a `for` loop I need to think about the possible set of values I want **i** to take. \n",
    "- Then, I want to ask python to repeat the `print` statement for each value of **i**  "
   ]
  },
  {
   "cell_type": "code",
   "execution_count": 7,
   "metadata": {
    "slideshow": {
     "slide_type": "slide"
    }
   },
   "outputs": [
    {
     "name": "stdout",
     "output_type": "stream",
     "text": [
      "0\n",
      "1\n",
      "2\n",
      "3\n"
     ]
    }
   ],
   "source": [
    "values = [0,1,2,3]  #these are the numbers I want to print. I made a list here. \n",
    "for i in values:\n",
    "    print(i)"
   ]
  },
  {
   "cell_type": "markdown",
   "metadata": {
    "slideshow": {
     "slide_type": "fragment"
    }
   },
   "source": [
    "- The output is identical.  \n",
    "- The critical difference is that I know exactly what values i want the variable i to take in a `for` loop. \n",
    "- In a 'while' loop, I use a **logical statement** on the variable i to determine how many times to run it.    "
   ]
  },
  {
   "cell_type": "markdown",
   "metadata": {
    "slideshow": {
     "slide_type": "slide"
    },
    "tags": []
   },
   "source": [
    "### `For` Loop \n",
    "\n",
    "- A `for` loop is a repetition structure where a code block runs a specified number of times.\n",
    "\n",
    "    for var in the_range_of_var:\n",
    "        do this\n",
    "        and this \n",
    "        and this \n",
    "    \n",
    "- **the_range_of_var** can be given in many forms.  The most common way is the `range` command, but it can also be a **list** or a numpy **array** as we will discuss further below.\n",
    "\n",
    "- The most important difference between a `for` loop and `while` loop is that a `for` loop *automatically increments the value of* **var** *to the next element in the_range_of_var* in each repetition of the code block\n",
    "\n",
    "- As we will see in the examples below **var** is often used an index variable that indexes into arrays sequentially. "
   ]
  },
  {
   "cell_type": "markdown",
   "metadata": {
    "slideshow": {
     "slide_type": "slide"
    },
    "tags": []
   },
   "source": [
    "### The `range` Function\n",
    "\n",
    "- creates an integer list spanning a *range*.  Very useful for constructing`for` loops. "
   ]
  },
  {
   "cell_type": "code",
   "execution_count": 8,
   "metadata": {
    "slideshow": {
     "slide_type": "fragment"
    },
    "tags": []
   },
   "outputs": [
    {
     "name": "stdout",
     "output_type": "stream",
     "text": [
      "0\n",
      "1\n",
      "2\n",
      "3\n"
     ]
    }
   ],
   "source": [
    "for i in range(4):\n",
    "    print(i)"
   ]
  },
  {
   "cell_type": "markdown",
   "metadata": {
    "slideshow": {
     "slide_type": "slide"
    },
    "tags": []
   },
   "source": [
    "\n",
    "- Python's `range` function can be customized by supplying up to three arguments. The general format of the range function is below:\n",
    "\n",
    "    range(start,stop,step)\n",
    "    \n",
    "- *start*, *stop*, *step* must be **integers**\n"
   ]
  },
  {
   "cell_type": "code",
   "execution_count": 9,
   "metadata": {
    "slideshow": {
     "slide_type": "fragment"
    },
    "tags": []
   },
   "outputs": [
    {
     "name": "stdout",
     "output_type": "stream",
     "text": [
      "0\n",
      "2\n",
      "4\n"
     ]
    }
   ],
   "source": [
    "#here range(start,stop,step) - start is 0 (inclusive) stop is 6 (exclsuive) and 2 is the step size. \n",
    "for i in range(0,6,2):\n",
    "    print(i)"
   ]
  },
  {
   "cell_type": "markdown",
   "metadata": {
    "slideshow": {
     "slide_type": "slide"
    }
   },
   "source": [
    "- `range` can even count down if necessary"
   ]
  },
  {
   "cell_type": "code",
   "execution_count": 10,
   "metadata": {
    "slideshow": {
     "slide_type": "fragment"
    }
   },
   "outputs": [
    {
     "name": "stdout",
     "output_type": "stream",
     "text": [
      "5\n",
      "4\n",
      "3\n",
      "2\n",
      "1\n",
      "0\n",
      "-1\n",
      "-2\n",
      "-3\n",
      "-4\n",
      "-5\n"
     ]
    }
   ],
   "source": [
    "for i in range(5,-6,-1):\n",
    "    print(i)"
   ]
  },
  {
   "cell_type": "markdown",
   "metadata": {
    "scrolled": true,
    "slideshow": {
     "slide_type": "slide"
    },
    "tags": []
   },
   "source": [
    "- To examine the contents of `range`, convert to a list or a numpy array before printing.  \n",
    "- Once you get comfortable using `range`, you wont need to do this.  "
   ]
  },
  {
   "cell_type": "code",
   "execution_count": 11,
   "metadata": {
    "slideshow": {
     "slide_type": "fragment"
    },
    "tags": []
   },
   "outputs": [
    {
     "name": "stdout",
     "output_type": "stream",
     "text": [
      "[0, 2, 4]\n",
      "[0 2 4]\n"
     ]
    }
   ],
   "source": [
    "x = list(range(0,6,2))\n",
    "print(x)\n",
    "y = np.array(range(0,6,2))\n",
    "print(y) "
   ]
  },
  {
   "cell_type": "markdown",
   "metadata": {
    "slideshow": {
     "slide_type": "subslide"
    },
    "tags": []
   },
   "source": [
    "### Loops over lists and arrays\n",
    "- `for` loops can take a list or array for the variable to iterate over in the loop.   "
   ]
  },
  {
   "cell_type": "code",
   "execution_count": 12,
   "metadata": {
    "slideshow": {
     "slide_type": "slide"
    }
   },
   "outputs": [
    {
     "name": "stdout",
     "output_type": "stream",
     "text": [
      "I \n",
      "wish \n",
      "Kawhi \n",
      "had \n",
      "better \n",
      "knees\n"
     ]
    }
   ],
   "source": [
    "mylist = ['I ','wish ','Kawhi ','had ','better ','knees']\n",
    "# the other way to do it is to use range over the length of the list (4):\n",
    "for i in mylist:\n",
    "    print(i)\n"
   ]
  },
  {
   "cell_type": "markdown",
   "metadata": {
    "slideshow": {
     "slide_type": "slide"
    }
   },
   "source": [
    "- Iterating over a list or array usually is done by using an index variable. \n",
    "- Even in python, its important to understand how this works because you often need to iterate over multiple arrays at the same time. \n",
    "- To do this, instead of the `for` loop iterating over a variable, it will iterate over the *index* into the array.   "
   ]
  },
  {
   "cell_type": "code",
   "execution_count": 13,
   "metadata": {
    "slideshow": {
     "slide_type": "fragment"
    },
    "tags": []
   },
   "outputs": [
    {
     "name": "stdout",
     "output_type": "stream",
     "text": [
      "I \n",
      "wish \n",
      "Kawhi \n",
      "had \n",
      "better \n",
      "knees\n"
     ]
    }
   ],
   "source": [
    "mylist = ['I ','wish ','Kawhi ','had ','better ','knees']\n",
    "nlist = len(mylist) #I know its 4, but its good to automatically get this. \n",
    "for i in range(nlist): # I use range(nlist) to make i go over the values 0,1,2,3 which are index into mylist. \n",
    "    print(mylist[i]) #here I index into mylist and then print.  \n"
   ]
  },
  {
   "cell_type": "markdown",
   "metadata": {
    "slideshow": {
     "slide_type": "slide"
    }
   },
   "source": [
    "- Why is this way of thinking about it useful.  Here is a simple example.  "
   ]
  },
  {
   "cell_type": "code",
   "execution_count": 14,
   "metadata": {
    "slideshow": {
     "slide_type": "fragment"
    }
   },
   "outputs": [
    {
     "name": "stdout",
     "output_type": "stream",
     "text": [
      "a  :  95\n",
      "b  :  82\n",
      "c  :  90\n",
      "d  :  88\n"
     ]
    }
   ],
   "source": [
    "names = ['a','b','c','d']\n",
    "grades = [95,82,90,88]\n",
    "nstudents = len(names) \n",
    "# the len function gets you the length of the list names\n",
    "for istudent in range(nstudents):  \n",
    "    #istudent is my indexing variable \n",
    "    print(names[istudent],' : ',grades[istudent]) \n",
    "    # i use istudent as an index into both names and grades. \n",
    "    \n",
    " "
   ]
  },
  {
   "cell_type": "markdown",
   "metadata": {
    "slideshow": {
     "slide_type": "slide"
    }
   },
   "source": [
    "-  `enumerate` is a useful python function for making `for` loops over a list"
   ]
  },
  {
   "cell_type": "code",
   "execution_count": 15,
   "metadata": {
    "slideshow": {
     "slide_type": "fragment"
    }
   },
   "outputs": [
    {
     "name": "stdout",
     "output_type": "stream",
     "text": [
      "a\n",
      "0\n",
      "b\n",
      "1\n",
      "c\n",
      "2\n",
      "d\n",
      "3\n"
     ]
    }
   ],
   "source": [
    "for index, item in enumerate(names):\n",
    "    print(item)\n",
    "    print(index)\n"
   ]
  },
  {
   "cell_type": "code",
   "execution_count": 16,
   "metadata": {
    "slideshow": {
     "slide_type": "fragment"
    }
   },
   "outputs": [
    {
     "name": "stdout",
     "output_type": "stream",
     "text": [
      "a  :  95\n",
      "b  :  82\n",
      "c  :  90\n",
      "d  :  88\n"
     ]
    }
   ],
   "source": [
    "#when using enumarate, you keep track of two things, the index into the list, and the item in the list:\n",
    "for index, item in enumerate(names):\n",
    "    print(item, ' : ', grades[index])\n"
   ]
  },
  {
   "cell_type": "markdown",
   "metadata": {
    "slideshow": {
     "slide_type": "slide"
    }
   },
   "source": [
    "### Indexing Loops\n",
    "- The most useful way to think about `for` loops is like this, \n",
    "\n",
    "    for index in Variable_to_iterate_over\n",
    "\n",
    "- `index` is the key to the for loop.  Inside the `for` loop `index` allows you to\n",
    "1.iterate over the elements of a list or array that must be operated on.\n",
    "\n",
    "        y = x[index]**2\n",
    "\n",
    "1. systematically increase the value of a variable, \n",
    "\n",
    "        y = 2*index+1\n",
    "1. iterate over multiple lists or arrays in parallel. \n",
    "\n",
    "        z = y[index] + x[index]        \n",
    "1. control indexing into an output array. \n",
    "\n",
    "        y[index] = x[index]**2"
   ]
  },
  {
   "cell_type": "markdown",
   "metadata": {
    "slideshow": {
     "slide_type": "slide"
    },
    "tags": []
   },
   "source": [
    "### Organizing input and output arrays with a for loop. \n",
    "- These are not the best use cases, but I chose these, because they should feel familiar.  "
   ]
  },
  {
   "cell_type": "markdown",
   "metadata": {
    "slideshow": {
     "slide_type": "fragment"
    },
    "tags": []
   },
   "source": [
    "- Example: Projecting your bank account after 10 years \n",
    "- Suppose you have $500 in your bank account and interest rate is 6.0\\% compounded annually. Write a for loop that will compute how much you will have in **nyears**.  "
   ]
  },
  {
   "cell_type": "code",
   "execution_count": 17,
   "metadata": {
    "slideshow": {
     "slide_type": "fragment"
    },
    "tags": []
   },
   "outputs": [
    {
     "name": "stdout",
     "output_type": "stream",
     "text": [
      "Balance of  895.4238482714267 after  10 years\n"
     ]
    }
   ],
   "source": [
    "nyears = 10\n",
    "# number of years\n",
    "interest = 0.06 # interest rate \n",
    "balance = 500 # starting balance\n",
    "for year in range(1,nyears+1): #notice I do nyears+1 here.  This is because year 0 is the first value and then \n",
    "                             # I want to interate nyears more years.\n",
    "    balance = balance+interest*balance\n",
    "print('Balance of ', balance, 'after ', nyears, 'years')\n",
    "    "
   ]
  },
  {
   "cell_type": "markdown",
   "metadata": {
    "slideshow": {
     "slide_type": "slide"
    }
   },
   "source": [
    "- If I want to keep track of the balance after each year, I could use "
   ]
  },
  {
   "cell_type": "code",
   "execution_count": 18,
   "metadata": {
    "slideshow": {
     "slide_type": "fragment"
    },
    "tags": []
   },
   "outputs": [
    {
     "name": "stdout",
     "output_type": "stream",
     "text": [
      "balance =  [500, 530.0, 561.8, 595.5079999999999, 631.2384799999999, 669.1127887999999, 709.2595561279999, 751.8151294956799, 796.9240372654207, 844.739479501346, 895.4238482714267]\n",
      "years =  [0, 1, 2, 3, 4, 5, 6, 7, 8, 9, 10]\n"
     ]
    }
   ],
   "source": [
    "nyears = 10# number of years\n",
    "balance = list()  \n",
    "interest = 0.06 # interest rate \n",
    "balance.append(500) # starting balance at year 0\n",
    "years_list = [0]\n",
    "for year in range(1,nyears+1):  #again, notice I use range with nyears and my index variables is years, \n",
    "    newbalance = balance[year-1]+interest*balance[year-1]\n",
    "    # notice I used years -1.  \n",
    "    #to get year n, I have to calculate using the balance from n-1\n",
    "    balance.append(newbalance)\n",
    "    years_list.append(year)\n",
    "print('balance = ', balance)\n",
    "print('years = ', years_list)"
   ]
  },
  {
   "cell_type": "code",
   "execution_count": 19,
   "metadata": {
    "slideshow": {
     "slide_type": "slide"
    },
    "tags": []
   },
   "outputs": [
    {
     "data": {
      "image/png": "[encoded data removed]",
      "text/plain": [
       "<Figure size 200x200 with 1 Axes>"
      ]
     },
     "metadata": {},
     "output_type": "display_data"
    }
   ],
   "source": [
    "### Let's make a nice plot of it.  \n",
    "fig = plt.figure(figsize = (2,2))\n",
    "a = fig.add_axes([0,0,1,1])\n",
    "a.bar(years_list,balance) # notice I control the x axis variable here using np.arange to go from 0 to 5\n",
    "a.set_xlabel('Year',fontsize = 12)\n",
    "a.set_ylabel('Balance ($)',fontsize=12)\n",
    "plt.grid('on',color='r')\n",
    "plt.show()"
   ]
  },
  {
   "cell_type": "markdown",
   "metadata": {
    "slideshow": {
     "slide_type": "slide"
    },
    "tags": []
   },
   "source": [
    "- What if interest rate varies over the next 10 years? So that the interest rate (percentage) for each of the five years is is [6,8,4,4,8,6,7,5,5,7]"
   ]
  },
  {
   "cell_type": "code",
   "execution_count": 20,
   "metadata": {
    "slideshow": {
     "slide_type": "fragment"
    },
    "tags": []
   },
   "outputs": [],
   "source": [
    "\n",
    "interest = np.array([0.06,0.08,0.04,0.04,0.08,0.06,0.07,0.05,0.05,0.07]) # interest rate \n",
    "nyears = np.size(interest) # I determined the number of years from the lenght of interest using the size function\n",
    "balance = list()\n",
    "balance.append(500) # starting balance\n",
    "years_list = [0]\n",
    "for year in range(1,nyears+1):\n",
    "    newbalance =  balance[year-1]+interest[year-1]*balance[year-1] \n",
    "    #notice that I use year here as an index into interest\n",
    "    #and into balance\n",
    "    #again I use year -1 to get the previous years data.   \n",
    "    balance.append(newbalance)\n",
    "    years_list.append(year)"
   ]
  },
  {
   "cell_type": "code",
   "execution_count": 21,
   "metadata": {
    "slideshow": {
     "slide_type": "slide"
    },
    "tags": []
   },
   "outputs": [
    {
     "data": {
      "image/png": "[encoded data removed]",
      "text/plain": [
       "<Figure size 200x200 with 1 Axes>"
      ]
     },
     "metadata": {},
     "output_type": "display_data"
    }
   ],
   "source": [
    "### Let's make a graph again \n",
    "fig = plt.figure(figsize = (2,2))\n",
    "a = fig.add_axes([0,0,1,1])\n",
    "a.plot(years_list,balance,'ro-') # notice I control the x axis variable here using np.arange to go from 0 to 11\n",
    "a.set_xlabel('Year',fontsize = 12)\n",
    "a.set_ylabel('Balance ($)',fontsize=12)\n",
    "plt.grid('on')\n",
    "plt.show()"
   ]
  },
  {
   "cell_type": "markdown",
   "metadata": {
    "slideshow": {
     "slide_type": "slide"
    }
   },
   "source": [
    "- Lets consider doing this problem with arrays instead of lists.  \n",
    "- Lets go back to simple case of a single interest rate first. \n",
    "- when working with arrays, we have to preallocate the array"
   ]
  },
  {
   "cell_type": "code",
   "execution_count": 22,
   "metadata": {
    "slideshow": {
     "slide_type": "fragment"
    }
   },
   "outputs": [
    {
     "name": "stdout",
     "output_type": "stream",
     "text": [
      "balance =  [500.         530.         561.8        595.508      631.23848\n",
      " 669.1127888  709.25955613 751.8151295  796.92403727 844.7394795\n",
      " 895.42384827]\n",
      "years =  [ 0  1  2  3  4  5  6  7  8  9 10]\n"
     ]
    }
   ],
   "source": [
    "nyears = 10# number of years\n",
    "#when working with arrays, we have to preallocate the arra\n",
    "balance = np.zeros(nyears+1) \n",
    "#I need 1 more year because I start at year 0\n",
    "interest = 0.06 # interest rate \n",
    "balance[0] = 500 # starting balance at year 0\n",
    "years_list = np.arange(nyears+1)\n",
    "for year in range(1,nyears+1):  #again, notice I use range with nyears and my index variables is years, \n",
    "    balance[year] = balance[year-1]+interest*balance[year-1]\n",
    "    # notice I am using indexing in the output and input side of the calculation.  \n",
    "print('balance = ', balance)\n",
    "print('years = ', years_list)"
   ]
  }
 ],
 "metadata": {
  "interpreter": {
   "hash": "fda1d92c402c9d5e0550eab7f590eb1c0582e487619314e6aa12d68c281f0580"
  },
  "kernelspec": {
   "display_name": "Python 3 (ipykernel)",
   "language": "python",
   "name": "python3"
  },
  "language_info": {
   "codemirror_mode": {
    "name": "ipython",
    "version": 3
   },
   "file_extension": ".py",
   "mimetype": "text/x-python",
   "name": "python",
   "nbconvert_exporter": "python",
   "pygments_lexer": "ipython3",
   "version": "3.12.4"
  }
 },
 "nbformat": 4,
 "nbformat_minor": 4
}
