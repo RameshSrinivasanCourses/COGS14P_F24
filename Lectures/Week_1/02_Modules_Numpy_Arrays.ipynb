{
 "cells": [
  {
   "cell_type": "markdown",
   "metadata": {
    "slideshow": {
     "slide_type": "slide"
    }
   },
   "source": [
    "# **Lecture 2**: Numpy Module for Scientific Computing: Arrays "
   ]
  },
  {
   "cell_type": "markdown",
   "metadata": {
    "slideshow": {
     "slide_type": "slide"
    }
   },
   "source": [
    "## Python Modules"
   ]
  },
  {
   "cell_type": "markdown",
   "metadata": {
    "slideshow": {
     "slide_type": "slide"
    }
   },
   "source": [
    "### Python is organized around **modules**. A module is a collection of *functions* or *classes*. \n",
    "\n",
    "* For now, you can think of a function or a class as some program that already exists, that you can make use of for your program, by *calling* the function or class.  \n",
    "* Some widely used modules and what they stand for \n",
    "\n",
    "1. `numpy` * - Numerical functions for Python \n",
    "\n",
    "1. `scipy` - Scientific functions for Python\n",
    "\n",
    "1. `statsmodel` - Library of statistical tool (very similar to R)\n",
    "\n",
    "1. `sklearn` - Data science methods\n",
    "\n",
    "1. `pandas` * - File input, output and data organization methods.\n",
    "\n",
    "1. `matplotlib` * - Plotting and Data Visualization functions. \n",
    "\n",
    "1. `seaborn` * - A data science focused data visualization module. Pretty!\n",
    "\n",
    "* How do I learn more about this.  Google is your friend. Take more classes after this at UCI or online. \n",
    "* '*' Will be introduced in this class  \n"
   ]
  },
  {
   "cell_type": "markdown",
   "metadata": {
    "slideshow": {
     "slide_type": "slide"
    }
   },
   "source": [
    "## Functions and Classes \n",
    "\n",
    "* A **function** is a specialized operation that has been programmed to take one or more *input* variables and return one or more *output* variables.  \n",
    "\n",
    "* When your call a function, you will write a line of code that looks something like this \n",
    "\n",
    "`output_variables =  function_name(input_variables)`\n",
    "\n",
    "* There can be more than one output_variables, and more than one input_variables, separated by commas. \n",
    "\n",
    "* A **class** is a template to create an **object** that has **methods** associated with it.\n",
    "\n",
    "`output_variables = object.method(input_variables)`\n"
   ]
  },
  {
   "cell_type": "markdown",
   "metadata": {
    "slideshow": {
     "slide_type": "slide"
    }
   },
   "source": [
    "## Numpy \n",
    "\n",
    "* The `numpy` **module** is used in almost all numerical computation using Python.  I do not think I have ever written a program without numpy.  \n",
    " \n",
    "* To use `numpy` functions you need to *import* the module, **sub-module** , or a specific **function** inside a module or submodule.  \n"
   ]
  },
  {
   "cell_type": "markdown",
   "metadata": {
    "slideshow": {
     "slide_type": "slide"
    },
    "tags": []
   },
   "source": [
    "## Import the numpy module\n",
    "\n",
    "* Because `numpy` is so generally useful, we usually import the entire numpy module.  There are two ways to do this:\n",
    "\n",
    "* `import numpy`\n",
    "\n",
    "* This tells python to import `numpy`\n",
    "\n",
    "* `import numpy as np`\n",
    "\n",
    "* This tells python to import the `numpy` module and use the abbreviation `np` to refer to it in your program. This is convenient as we refer to functions as `np.function`.  \n",
    "\n",
    "* Note that you could have called it whatever abbreviation you want.  `np` is widely used as an abbreviation for `numpy`. \n"
   ]
  },
  {
   "cell_type": "code",
   "execution_count": 4,
   "metadata": {
    "slideshow": {
     "slide_type": "fragment"
    }
   },
   "outputs": [],
   "source": [
    "import numpy as np"
   ]
  },
  {
   "cell_type": "markdown",
   "metadata": {
    "slideshow": {
     "slide_type": "slide"
    }
   },
   "source": [
    "## Creating `numpy` arrays\n",
    "\n",
    "* In the `numpy` module the basic data type is an **array**. \n",
    "* Working with an array is a lot like working with a list, but arrays are more disciplined, so we can do more with them. \n",
    "* The critically important property is this: \n",
    "\n",
    "\n",
    "### **Arrays only have 1 data type**\n"
   ]
  },
  {
   "cell_type": "markdown",
   "metadata": {
    "slideshow": {
     "slide_type": "slide"
    }
   },
   "source": [
    "* There are a number of ways to initialize new numpy arrays, for example from\n",
    "1.  using functions that are dedicated to generating numpy arrays, such as `arange`, `linspace`\n",
    "1.  creating an array filled with the same value at every entry using functions such as `zeros` or `ones`\n",
    "1.  creating an array filled with random numbers using functions such as `random`\n",
    "\n",
    "* In working with data we will learn also how to create numpy arrays by \n",
    "1. reading data from different types of files\n",
    "1.  converting other data types like `list` using functions such as `array`"
   ]
  },
  {
   "cell_type": "markdown",
   "metadata": {
    "slideshow": {
     "slide_type": "slide"
    }
   },
   "source": [
    "## Initializing an array of zeros\n",
    "\n",
    "* Probably the most common way to create an array is to initialize all the elements of the array with the value 0. \n",
    "* This can be done with the function `zeros`. \n",
    "* A function takes input arguments \n",
    "* To invoke this function use `np.zeros`. It is the function `zeros` in the `np` module.\n",
    "* In principle, there could be another function called `zeros` in another module.  Specifying the module avoids confusion.  \n",
    "\n",
    "* An array always has a **size**. "
   ]
  },
  {
   "cell_type": "markdown",
   "metadata": {
    "slideshow": {
     "slide_type": "slide"
    }
   },
   "source": [
    "* In this example below i initialize an array called my_array with 5 elements, all of which have the value 0.  \n"
   ]
  },
  {
   "cell_type": "code",
   "execution_count": null,
   "metadata": {
    "slideshow": {
     "slide_type": "fragment"
    }
   },
   "outputs": [],
   "source": [
    "my_array = np.zeros(5)\n",
    "print(my_array)\n",
    "type(my_array)"
   ]
  },
  {
   "cell_type": "markdown",
   "metadata": {
    "slideshow": {
     "slide_type": "fragment"
    }
   },
   "source": [
    "* Notice that by default the array is floating point (note the decimal) and not integer. \n",
    "* The type of variable is a numpy.ndarray\n",
    "\n"
   ]
  },
  {
   "cell_type": "markdown",
   "metadata": {
    "slideshow": {
     "slide_type": "slide"
    }
   },
   "source": [
    "* An array with 2 dimensions is called a **matrix**. In this case, I have to specify the 2-dimensions in a special type of list called a `tuple` which has round brackets `()` instead of square `[]` "
   ]
  },
  {
   "cell_type": "code",
   "execution_count": null,
   "metadata": {
    "slideshow": {
     "slide_type": "fragment"
    }
   },
   "outputs": [],
   "source": [
    "### Lets initialize a matrix\n",
    "my_array2 = np.zeros((3,4))\n",
    "print(my_array2)"
   ]
  },
  {
   "cell_type": "markdown",
   "metadata": {
    "slideshow": {
     "slide_type": "fragment"
    }
   },
   "source": [
    "* Notice the form of the array above.  It has an outer square bracket, and then 3 separate numpy arrays of size 4 stacked on top of each other.  "
   ]
  },
  {
   "cell_type": "markdown",
   "metadata": {
    "slideshow": {
     "slide_type": "slide"
    }
   },
   "source": [
    "* Now I'm going to initialize a slightly different array.  This is an array which has two dimensions.  It has 1 row and 5 columns. "
   ]
  },
  {
   "cell_type": "code",
   "execution_count": null,
   "metadata": {
    "slideshow": {
     "slide_type": "fragment"
    }
   },
   "outputs": [],
   "source": [
    "my_array3 = np.zeros((1,5))\n",
    "print(my_array3)"
   ]
  },
  {
   "cell_type": "markdown",
   "metadata": {
    "slideshow": {
     "slide_type": "fragment"
    }
   },
   "source": [
    "* Take a look at the Variables pane, we can compare the dimensions of my_array3 to my_array.  my_array3 has an extra dimension of size 1. \n",
    "* Dimensions of size 1 are not really helpful.  `numpy` has a function to get rid of them called `squeeze`"
   ]
  },
  {
   "cell_type": "code",
   "execution_count": null,
   "metadata": {
    "slideshow": {
     "slide_type": "fragment"
    }
   },
   "outputs": [],
   "source": [
    "my_array4 = np.squeeze(my_array3)\n",
    "print(my_array4)"
   ]
  },
  {
   "cell_type": "markdown",
   "metadata": {
    "slideshow": {
     "slide_type": "slide"
    }
   },
   "source": [
    "## Examining Array Size, Shape, and Data Type\n",
    "* Arrays generated with numpy are `objects` that have built in `methods`.  Some of these methods return properties of the arrays, and some of them can be used to manipulate the array\n",
    "1. `shape` tells us the shape of an array\n",
    "2. `size` tells us the total number of elements in an array \n",
    "3. `dtype` query the array for the type of data contained in it."
   ]
  },
  {
   "cell_type": "code",
   "execution_count": null,
   "metadata": {
    "scrolled": true,
    "slideshow": {
     "slide_type": "slide"
    }
   },
   "outputs": [],
   "source": [
    "#array shape\n",
    "array_shape = my_array.shape\n",
    "print(array_shape)\n",
    "array2_shape = my_array2.shape\n",
    "print(array2_shape)"
   ]
  },
  {
   "cell_type": "code",
   "execution_count": null,
   "metadata": {
    "slideshow": {
     "slide_type": "fragment"
    }
   },
   "outputs": [],
   "source": [
    "#array size\n",
    "array_size = my_array.size\n",
    "print(array_size)\n",
    "array2_size = my_array2.size\n",
    "print(array2_size)\n"
   ]
  },
  {
   "cell_type": "code",
   "execution_count": null,
   "metadata": {
    "slideshow": {
     "slide_type": "slide"
    }
   },
   "outputs": [],
   "source": [
    "### Alternatively, you could obtain the same information by using the corresponding `numpy` functions\n",
    "array2_shape = np.shape(my_array2)\n",
    "print(array2_shape)\n",
    "array2_size = np.size(my_array2)\n",
    "print(array2_size)###\n",
    " "
   ]
  },
  {
   "cell_type": "markdown",
   "metadata": {
    "slideshow": {
     "slide_type": "fragment"
    }
   },
   "source": [
    "But its a good idea to gain some experience with the object-oriented syntax, because some things cannot be done without it.  "
   ]
  },
  {
   "cell_type": "code",
   "execution_count": null,
   "metadata": {
    "slideshow": {
     "slide_type": "fragment"
    }
   },
   "outputs": [],
   "source": [
    "#dtype is only available as an object method\n",
    "print(my_array2.dtype)"
   ]
  },
  {
   "cell_type": "markdown",
   "metadata": {
    "slideshow": {
     "slide_type": "fragment"
    }
   },
   "source": [
    "* Notice an important difference between a list and an array. \n",
    "* An array can have a data type because there can only be one data type in an array.\n",
    "* A list cannot have a data type because it could have many different data types.  Only an element of a list can have a data type.   "
   ]
  },
  {
   "cell_type": "markdown",
   "metadata": {
    "slideshow": {
     "slide_type": "slide"
    }
   },
   "source": [
    "## Initializing an array of ones or any arbitrary value.\n",
    "* Similar to the function `zeros` numpy has a function called `ones`\n",
    "* You can use it to make arrays containing arbitrary values\n",
    "* An array of ones can be multiplied by an arbitrary constant to make an array of that value. "
   ]
  },
  {
   "cell_type": "code",
   "execution_count": null,
   "metadata": {
    "slideshow": {
     "slide_type": "fragment"
    }
   },
   "outputs": [],
   "source": [
    "my_one_array = np.ones(4)\n",
    "print(my_one_array)\n"
   ]
  },
  {
   "cell_type": "code",
   "execution_count": null,
   "metadata": {
    "slideshow": {
     "slide_type": "fragment"
    }
   },
   "outputs": [],
   "source": [
    "my_fives_array = 5*np.ones(10)\n",
    "print(my_fives_array)"
   ]
  },
  {
   "cell_type": "markdown",
   "metadata": {
    "slideshow": {
     "slide_type": "slide"
    }
   },
   "source": [
    "## Array-generating functions\n",
    "* `zeros` and `ones` are examples of *array generating* functions, which populates an array of user specified size with the value zero or one respectively.  \n",
    "* There are a number of very useful array generating functions in the numpy module.\n",
    "* We will introduce the 2 of the most important ones here:\n",
    "* `arange` - creates a range of linearly spaced values specifying interval\n",
    "* `linspace` - lineary spaced values specifying number of values"
   ]
  },
  {
   "cell_type": "markdown",
   "metadata": {
    "slideshow": {
     "slide_type": "slide"
    }
   },
   "source": [
    "* `arange` creates an array containing values from a starting point to an ending point with a user specified step. \n",
    "\n",
    "* With `arange` **the ending point is not included in the array.**  "
   ]
  },
  {
   "cell_type": "code",
   "execution_count": null,
   "metadata": {
    "slideshow": {
     "slide_type": "fragment"
    }
   },
   "outputs": [],
   "source": [
    "# create a range\n",
    "#using arange the stop point IS NOT included\n",
    "x = np.arange(0, 10, 1) # arguments: start, stop, step\n",
    "print(x)"
   ]
  },
  {
   "cell_type": "code",
   "execution_count": null,
   "metadata": {
    "slideshow": {
     "slide_type": "fragment"
    }
   },
   "outputs": [],
   "source": [
    "y = np.arange(-4, 4.1, 0.5)  #notice I stopped it at 4.1 instead of 4.  \n",
    "print(y)"
   ]
  },
  {
   "cell_type": "markdown",
   "metadata": {
    "slideshow": {
     "slide_type": "slide"
    }
   },
   "source": [
    "* `linspace` creates an array from a starting point to an ending point, with the number of points specified by the user rather than the step.  \n",
    "\n",
    "* With `linspace` **the ending point is included in the array** "
   ]
  },
  {
   "cell_type": "code",
   "execution_count": null,
   "metadata": {
    "slideshow": {
     "slide_type": "fragment"
    }
   },
   "outputs": [],
   "source": [
    "# using linspace, both end points ARE included\n",
    "z = np.linspace(0, 10, 26) #arguments: start, stop, number of points\n",
    "print(z)\n"
   ]
  },
  {
   "cell_type": "code",
   "execution_count": null,
   "metadata": {
    "slideshow": {
     "slide_type": "fragment"
    }
   },
   "outputs": [],
   "source": [
    "np.shape(z)"
   ]
  },
  {
   "cell_type": "markdown",
   "metadata": {
    "slideshow": {
     "slide_type": "slide"
    }
   },
   "source": [
    "## Converting other data types into an array\n",
    "\n",
    "* The function `array` can be used to convert other data types into arrays. \n",
    "\n",
    "* The most common use is to convert a **list** into a **ndarray** \n"
   ]
  },
  {
   "cell_type": "code",
   "execution_count": null,
   "metadata": {
    "slideshow": {
     "slide_type": "fragment"
    }
   },
   "outputs": [],
   "source": [
    "my_list = [1,2,3]\n",
    "print('my_list = ', my_list)\n",
    "my_array = np.array(my_list)\n",
    "print('my_array = ',my_array)\n",
    "# Notice that the list is separated by commas while arrays are separated by spaces.   "
   ]
  },
  {
   "cell_type": "markdown",
   "metadata": {
    "slideshow": {
     "slide_type": "fragment"
    }
   },
   "source": [
    "You should be able to tell if something is a list or an array by the commas"
   ]
  },
  {
   "cell_type": "code",
   "execution_count": null,
   "metadata": {
    "slideshow": {
     "slide_type": "slide"
    }
   },
   "outputs": [],
   "source": [
    "my_list = [2.0,2.9,13]\n",
    "print('my_list = ', my_list)\n",
    "my_array = np.array(my_list)\n",
    "print('my_array = ',my_array)\n",
    "# Notice that in this example my list had two floating point numbers and 1 integer.  By default, it will convert the integer into a floating point because an array can only have 1 data type.  "
   ]
  },
  {
   "cell_type": "markdown",
   "metadata": {
    "slideshow": {
     "slide_type": "fragment"
    }
   },
   "source": [
    "* I could try to force the array to produce integers. This will cause all decimal values to be removed. "
   ]
  },
  {
   "cell_type": "code",
   "execution_count": null,
   "metadata": {
    "slideshow": {
     "slide_type": "fragment"
    }
   },
   "outputs": [],
   "source": [
    "my_array_int = np.array(my_list,dtype = 'int') # notice I specified the dtype\n",
    "print(my_array_int)"
   ]
  },
  {
   "cell_type": "code",
   "execution_count": null,
   "metadata": {
    "slideshow": {
     "slide_type": "slide"
    }
   },
   "outputs": [],
   "source": [
    "my_kawhi_list = ['Kawhi','Leonard','June',29,1991,79.0]\n",
    "print('my_kawhi_list = ', my_kawhi_list)\n",
    "my_kawhi_array = np.array(my_kawhi_list)\n",
    "print('my_kawhi_array = ',my_kawhi_array)\n",
    "#Notice that the presence of a string converts all of the elements of the list into an array of strings. "
   ]
  },
  {
   "cell_type": "markdown",
   "metadata": {
    "slideshow": {
     "slide_type": "slide"
    }
   },
   "source": [
    "##  Mathematical Functions in numpy"
   ]
  },
  {
   "cell_type": "markdown",
   "metadata": {
    "slideshow": {
     "slide_type": "slide"
    }
   },
   "source": [
    "### Numpy has built in a large number of mathematical functions.  Next class we will deep dive into this starting with random number generators. \n",
    "\n",
    "### Basic Math\n",
    "#### Basic operations will work on numpy arrays, element by element:\n",
    "* +, addition                                  \n",
    "* -, subtraction\n",
    "* \\*, multiplication\n",
    "* / division \n",
    "* \\*\\*, exponentiation \n",
    "* //, floor division or integer division \n",
    "* %, remainder \n",
    "\n",
    "#### **THEY WILL ONLY WORK WITH A SCALAR NUMBER OR WITH ARRAYS OF THE SAME SIZE**"
   ]
  },
  {
   "cell_type": "code",
   "execution_count": null,
   "metadata": {
    "scrolled": true,
    "slideshow": {
     "slide_type": "slide"
    }
   },
   "outputs": [],
   "source": [
    "a = np.array([0.5, 1,2])\n",
    "b = np.array([4,6,8]) \n",
    "c = np.array([-1,1])\n",
    "print(a)\n",
    "print(b)\n",
    "print(c)\n",
    "#lets test the operations above. "
   ]
  },
  {
   "cell_type": "markdown",
   "metadata": {
    "slideshow": {
     "slide_type": "subslide"
    }
   },
   "source": [
    "* Arithmetic with scalar numbers. \n",
    "* We can use the usual arithmetic operators to multiply, add, subtract, and divide arrays with scalar numbers.\n"
   ]
  },
  {
   "cell_type": "code",
   "execution_count": null,
   "metadata": {
    "slideshow": {
     "slide_type": "fragment"
    }
   },
   "outputs": [],
   "source": [
    "print(b)\n",
    "add = b+2 \n",
    "print(add)\n",
    "subtract = b-2\n",
    "print(subtract)\n",
    "multiply = b*2\n",
    "print(multiply)\n",
    "divide = b/2 \n",
    "print(divide)\n"
   ]
  },
  {
   "cell_type": "markdown",
   "metadata": {
    "slideshow": {
     "slide_type": "slide"
    }
   },
   "source": [
    "#### This is just a self exercise, to make sure you are comfortable with doing basic math operations. \n",
    "#### verify what happens when you do \n",
    "*   a+b\n",
    "*   a-b\n",
    "*   a*b\n",
    "*   a/b\n",
    "*   a**2\n",
    "*   b/3\n",
    "*   b//3\n",
    "*   b%3 \n",
    "\n",
    "####  You dont need to submit these responses.  Just do it for yourself in the box below, the results should make sense to you.   \n",
    "#### Also confirm you cannot do this \n",
    "\n",
    "*   a+c\n",
    "\n",
    "#### This is because the arrays do not match in size.  \n"
   ]
  },
  {
   "cell_type": "code",
   "execution_count": null,
   "metadata": {
    "slideshow": {
     "slide_type": "fragment"
    }
   },
   "outputs": [],
   "source": []
  },
  {
   "cell_type": "markdown",
   "metadata": {
    "slideshow": {
     "slide_type": "slide"
    }
   },
   "source": [
    "## Manipulating Sign and Data Type\n",
    "### There are also some basic manipulation of the sign and type of data:\n",
    "* `abs`, computes the absolute value\n",
    "* `rint`, rounds to the nearest integer\n",
    "* `floor`, return the first integer value less than the number  \n",
    "* `ceil`, return the first integer higher than the number\n",
    "* `sign`, returns -1 for negative values and 1 for positive values "
   ]
  },
  {
   "cell_type": "code",
   "execution_count": null,
   "metadata": {
    "slideshow": {
     "slide_type": "slide"
    }
   },
   "outputs": [],
   "source": [
    "c = np.array([-1.75, -0.75, -0.5, 0, 0.5, 0.75, 1.75])\n",
    "print(c)\n",
    "#let's test the operations above\n",
    "print('abs: ',np.abs(c))\n",
    "print('rint: ',np.rint(c))\n",
    "print('floor: ',np.floor(c))\n",
    "print('ceil: ',np.ceil(c))\n",
    "print('sign: ',np.sign(c))"
   ]
  },
  {
   "cell_type": "markdown",
   "metadata": {
    "slideshow": {
     "slide_type": "slide"
    }
   },
   "source": [
    "## Index slicing \n",
    "* Indexing with arrays works identically to indexing with lists.  \n",
    "* Index slicing is the technical name for the syntax `v[lower:upper:step]` to extract part of an array:"
   ]
  },
  {
   "cell_type": "code",
   "execution_count": null,
   "metadata": {
    "slideshow": {
     "slide_type": "fragment"
    }
   },
   "outputs": [],
   "source": [
    "A = [7, 2, 1, 4, 2, 5, 6, 9] # here A is a list \n",
    "print(A)\n",
    "A = np.array(A) #here I converted A into a numpy array so i could do math. \n",
    "print(A)\n",
    "a = A[1:3] #notice it is inclusive of the lower bound and exclusive of the upper bound\n",
    "       #also notice I did not specifiy a step, so it defaulted to 1. \n",
    "print(a)"
   ]
  },
  {
   "cell_type": "code",
   "execution_count": null,
   "metadata": {
    "slideshow": {
     "slide_type": "fragment"
    }
   },
   "outputs": [],
   "source": [
    "print(A)\n",
    "b = A[6:]  #start at element 6 go to end of array"
   ]
  },
  {
   "cell_type": "code",
   "execution_count": null,
   "metadata": {
    "slideshow": {
     "slide_type": "slide"
    }
   },
   "outputs": [],
   "source": [
    "print(A)\n",
    "c = A[1:7:2]  #In this example, i use step of size 2. Since my upper bound is 7, index 7 is excluded \n",
    "print(c)"
   ]
  },
  {
   "cell_type": "code",
   "execution_count": null,
   "metadata": {
    "slideshow": {
     "slide_type": "fragment"
    }
   },
   "outputs": [],
   "source": [
    "# We can modify this set of entries in the array if we correctly match the dimensions\n",
    "print(A)\n",
    "newvalues = np.array([-5,-10,-15]) # I made a new array from a list \n",
    "A[1:7:2] = newvalues\n",
    "print(A)"
   ]
  },
  {
   "cell_type": "markdown",
   "metadata": {
    "slideshow": {
     "slide_type": "slide"
    }
   },
   "source": [
    "### Indexing backwards from the end of an array  \n",
    "* When indexing into arrays, we sometimes want to get the last element, or a certain number of elements of the list or array.  \n",
    "* Of course if you know how long the array is in advance, you can easily solve this.\n",
    "* Python supports indexing from the end of an array using negative indexes. \n",
    " "
   ]
  },
  {
   "cell_type": "code",
   "execution_count": null,
   "metadata": {
    "slideshow": {
     "slide_type": "fragment"
    }
   },
   "outputs": [],
   "source": [
    "w = np.array([-10,-5, -2.5,0,2.5,5,10])\n",
    "last_w = w[-1]\n",
    "print(last_w)\n",
    "last_2w = w[-2]\n",
    "print(last_2w)\n",
    "last_all3 = w[-3:]\n",
    "print(last_all3)"
   ]
  },
  {
   "cell_type": "markdown",
   "metadata": {
    "slideshow": {
     "slide_type": "slide"
    }
   },
   "source": [
    "### Indexing into arrays manually and using `range`\n",
    "* Indexing into arrays works identically to indexing into lists\n",
    "*  The `range` function can be helpful in indexing into arrays \n",
    "*  The `range` function is useful for automatically making list of indices.  "
   ]
  },
  {
   "cell_type": "code",
   "execution_count": null,
   "metadata": {
    "slideshow": {
     "slide_type": "slide"
    }
   },
   "outputs": [],
   "source": [
    "c = np.array([-1.75, -0.75, -0.5, 0, 0.5, 0.75, 1.75])\n",
    "## this is the 4th element of c\n",
    "print(c[3]) \n",
    "## This is the first 3 elements of c \n",
    "print(c[0:3])\n",
    "## you could also do this with the range function \n",
    "print(c[range(4)])\n",
    "## This is the last 2 elements of c \n",
    "print(c[-2:])\n",
    "## This is the 1st,3rd, and 5th element of c \n",
    "print(c[0:5:2])\n",
    "## You could also do this with the range function \n",
    "print (c[range(0,5,2)])\n",
    "## This is the first, 4th, and 8th element of c\n",
    "print(c[range(0,7,3)])"
   ]
  },
  {
   "cell_type": "markdown",
   "metadata": {
    "slideshow": {
     "slide_type": "slide"
    }
   },
   "source": [
    "### Indexing Ranges:  \n",
    "* In python, indexing can be done with defaults to the full range of values.  This can be very useful when writing code to index into an array whose length may change in different runs of the code, e.g., trials of an experiment.  \n",
    "* Some ways we could make use of this incude \n",
    "1. `x[n:]` - start with the index n entry of x all the way to the last entry \n",
    "2. `x[:m]` - take the first m elements\n",
    "3. `x[::n]` - start at the begining go the end and take every nth entry in the array. \n",
    "4. `x[-n:]` - take the last n entries in the array\n",
    "* Some syntax examples are shown below. Run the block of code"
   ]
  },
  {
   "cell_type": "code",
   "execution_count": null,
   "metadata": {
    "slideshow": {
     "slide_type": "slide"
    }
   },
   "outputs": [],
   "source": [
    "x = np.arange(-10,11,2)\n",
    "print('all ')\n",
    "print(x)\n",
    "print('from the 3rd item to end is x[2:]')\n",
    "print(x[2:])\n",
    "print('take the first 4 items is x[:4]')\n",
    "print(x[:4])\n",
    "print('every other item is x[::2]')\n",
    "print(x[::2])\n",
    "print('every other item starting from the 2nd item is x[1::2]')\n",
    "print(x[1::2]) "
   ]
  },
  {
   "cell_type": "markdown",
   "metadata": {
    "slideshow": {
     "slide_type": "slide"
    }
   },
   "source": [
    "### Arrays strictly control data type. \n",
    "* First, lets make an array of integers and an array of floating point numbers.  "
   ]
  },
  {
   "cell_type": "code",
   "execution_count": null,
   "metadata": {
    "slideshow": {
     "slide_type": "fragment"
    }
   },
   "outputs": [],
   "source": [
    "A = np.array([7, 0, 6, 2, 4, 2, 0])\n",
    "print(A)\n",
    "B = np.array([-4.75,-3.35,-5.95])\n",
    "print(B)"
   ]
  },
  {
   "cell_type": "code",
   "execution_count": null,
   "metadata": {
    "slideshow": {
     "slide_type": "fragment"
    }
   },
   "outputs": [],
   "source": [
    "## Now lets copy B into our integer array A , starting at the 3rd entry to the 5th entry \n",
    "print(A[3:6])  # print out the current values of A from the 3rd to 5th entry\n",
    "A[3:6] = B  # replace these with B \n",
    "print(B)\n",
    "print(A[3:6]) #print new values in A "
   ]
  },
  {
   "cell_type": "markdown",
   "metadata": {
    "slideshow": {
     "slide_type": "fragment"
    }
   },
   "source": [
    "* A is an integer array.  If you place floating point numbers in A, it will **crop** the decimal values.  \n",
    "* When you create an array, it has a data type, and when you put something into the array it will convert it to that data type.  \n"
   ]
  },
  {
   "cell_type": "markdown",
   "metadata": {
    "slideshow": {
     "slide_type": "slide"
    }
   },
   "source": [
    "* When you create an array you can force its data type. "
   ]
  },
  {
   "cell_type": "code",
   "execution_count": null,
   "metadata": {
    "slideshow": {
     "slide_type": "fragment"
    }
   },
   "outputs": [],
   "source": [
    "lst = [1,2,3]\n",
    "lst_int = np.array(lst)\n",
    "lst_float = np.array(lst,dtype='float')\n",
    "print(lst)\n",
    "print(lst_int)\n",
    "print(lst_float)"
   ]
  },
  {
   "cell_type": "code",
   "execution_count": null,
   "metadata": {},
   "outputs": [],
   "source": [
    "lst2 = [1.5,2.5,3.5]\n",
    "lst2_int = np.array(lst2)\n",
    "lst2_float = np.array(lst2,dtype='int')\n",
    "print(lst2)\n",
    "print(lst2_int)\n",
    "print(lst2_float)"
   ]
  }
 ],
 "metadata": {
  "celltoolbar": "Slideshow",
  "interpreter": {
   "hash": "fda1d92c402c9d5e0550eab7f590eb1c0582e487619314e6aa12d68c281f0580"
  },
  "kernelspec": {
   "display_name": "Python 3 (ipykernel)",
   "language": "python",
   "name": "python3"
  },
  "language_info": {
   "codemirror_mode": {
    "name": "ipython",
    "version": 3
   },
   "file_extension": ".py",
   "mimetype": "text/x-python",
   "name": "python",
   "nbconvert_exporter": "python",
   "pygments_lexer": "ipython3",
   "version": "3.12.4"
  }
 },
 "nbformat": 4,
 "nbformat_minor": 4
}
