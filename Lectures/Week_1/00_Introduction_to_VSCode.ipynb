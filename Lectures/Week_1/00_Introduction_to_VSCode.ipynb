{
 "cells": [
  {
   "cell_type": "markdown",
   "metadata": {
    "slideshow": {
     "slide_type": "slide"
    }
   },
   "source": [
    "# This is a Jupyter (Python) Notebook\n",
    "\n",
    "### A Jupyter Notebook is the most common way scientists organize their programs.  \n",
    "### It's attractive because it organizes text, code, figures, into a single document. \n",
    "### Its not a **program** in the conventional sense of the term, in that it is usually executed in an interactive way. \n",
    "### All of the lectures, problem sets, tests, homeworks, in this class will be provided in the form of a Jupyter notebook. \n"
   ]
  },
  {
   "cell_type": "markdown",
   "metadata": {},
   "source": [
    "# Visual Studio Code is an IDE\n",
    "\n",
    "### A Jupyter notebook can be opened in different Interactive Development Environments (IDE).  \n",
    "### My favorite is Visual Studio Code (VS Code) which I use for my research.  \n",
    "### Another widely used IDE is **Jupyter Lab** /**Jupyter Notebook**.  \n",
    "### They are kind of the same thing, and Jupyter Lab is the new and improved Jupyter Notebook, but not all features have made it over. \n",
    "### If you already took COGS/PSYC 10A and really loved Rstudio, or are familiar with Matlab you could use **Spyder** which has the same look and feel.  In Spyder you need to install the Jupyter Notebook extension.  "
   ]
  },
  {
   "cell_type": "markdown",
   "metadata": {
    "slideshow": {
     "slide_type": "slide"
    }
   },
   "source": [
    "## Cells\n",
    "\n",
    "### This is a cell, which is indicated by the bar on the left. \n",
    "### Cells are of different types.  This is a **markdown** cell that contains text. \n",
    "### A markdown cell contains html code, and is where i was place Instructional text in the Lectures and Tutorials, and the Problem Statement in Homework and Tests.\n",
    "### If you double click on it it can be edited.  After you are done, click on the checkbox to render it (or SHIFT-ENTER)   \n",
    "### The next cell is labeled \"Python\" and contains a bit of python code you can run. \n",
    "### Click on the next cell, then click on the arrow to the left of the box. Alternatively, you can click type shift-enter to execute the code. "
   ]
  },
  {
   "cell_type": "code",
   "execution_count": 1,
   "metadata": {
    "slideshow": {
     "slide_type": "slide"
    }
   },
   "outputs": [
    {
     "name": "stdout",
     "output_type": "stream",
     "text": [
      "my_variable\n"
     ]
    }
   ],
   "source": [
    "#notice that after I execute the cell, the number 1 appears in the box on the left.  IF I execute it again, the number changes to 2. \n",
    "variable_name = \"my_variable\"\n",
    "print(variable_name)\n",
    "#notice that the output of the cell appears below the cell box.  This will be true for print statement and for figures. It will also be where error messages can appear. "
   ]
  },
  {
   "cell_type": "markdown",
   "metadata": {},
   "source": [
    "## Kernel \n",
    "### Its important that you track the kernel that you are using for Python.  \n",
    "### On the top right, is an icon that either says \"Select Kernel\" or it says \"base(Python 3.11)\"  \n",
    "### If it says \"Select Kernel\" you need to choose one before executing.  \n",
    "### if it does not say \"base\" or \"conda\" or \"anaconda\" you need to change the kernel. Notice, there is a kernel that comes with your system. You do not want to use this kernel.  "
   ]
  },
  {
   "cell_type": "markdown",
   "metadata": {
    "slideshow": {
     "slide_type": "slide"
    }
   },
   "source": [
    "## The `print` statement\n",
    "### The next cell does a small calculation of adding 2 numbers.  The print command displays the output"
   ]
  },
  {
   "cell_type": "code",
   "execution_count": 2,
   "metadata": {
    "slideshow": {
     "slide_type": "subslide"
    }
   },
   "outputs": [
    {
     "name": "stdout",
     "output_type": "stream",
     "text": [
      "3\n"
     ]
    }
   ],
   "source": [
    "a = 1\n",
    "b = 2\n",
    "\n",
    "c = a + b\n",
    "\n",
    "print(c)"
   ]
  },
  {
   "cell_type": "markdown",
   "metadata": {
    "slideshow": {
     "slide_type": "slide"
    }
   },
   "source": [
    "### The next cell does not print. Try running it.  It will seem to do nothing.\n",
    "### You need a `print` command to see the output. \n",
    "### Notice I used a `#` symbol to indicate a comment and not code. \n",
    "### I wrote a comment inline to indicate what the operation was on the line that I multiplied. \n",
    "### On the next line I put a comment symbol `#` in front of print(c).  This means this line is not being executed. \n",
    "### Next try removing the comment and running the cell again.  "
   ]
  },
  {
   "cell_type": "code",
   "execution_count": 4,
   "metadata": {
    "slideshow": {
     "slide_type": "subslide"
    }
   },
   "outputs": [],
   "source": [
    "a = 5 \n",
    "b = 4\n",
    "\n",
    "c = a*b  #multiply\n"
   ]
  },
  {
   "cell_type": "markdown",
   "metadata": {
    "slideshow": {
     "slide_type": "subslide"
    },
    "tags": []
   },
   "source": [
    "## The **VARIABLES** or **JUPYTER** window\n",
    "### Another way to examine the output is to directly look at the variables in a table.\n",
    "### The Variables Tab will open a window with your variables. \n",
    "### By default, the variables will appear below your python.  If you want to move it to the right\n",
    "### View -> Command Pallette -> View:Focus into Secondary Side Bar\n",
    "### Then drag the variables pane to the right. "
   ]
  },
  {
   "cell_type": "markdown",
   "metadata": {
    "slideshow": {
     "slide_type": "slide"
    }
   },
   "source": [
    "### In the next example I do a calculation but I do not set it equal to any variable.  Try running it. "
   ]
  },
  {
   "cell_type": "code",
   "execution_count": 5,
   "metadata": {
    "slideshow": {
     "slide_type": "subslide"
    }
   },
   "outputs": [
    {
     "data": {
      "text/plain": [
       "1.25"
      ]
     },
     "execution_count": 5,
     "metadata": {},
     "output_type": "execute_result"
    }
   ],
   "source": [
    "a = 5\n",
    "b = 4\n",
    "a/b #divide"
   ]
  },
  {
   "cell_type": "markdown",
   "metadata": {
    "slideshow": {
     "slide_type": "notes"
    }
   },
   "source": [
    "### When there was nowhere to put the output of the divide, it just output to the window\n",
    "### Take a look at the VARIABLES table.  There is no variable with value 1.25\n",
    "### That value is lost forever!"
   ]
  },
  {
   "cell_type": "markdown",
   "metadata": {
    "slideshow": {
     "slide_type": "slide"
    }
   },
   "source": [
    "### Let's create an empty cell and make a new example with \n",
    "### a = 3 \n",
    "### b = 2 \n",
    "### and compute c = a-b and display the results.\n",
    "  "
   ]
  },
  {
   "cell_type": "code",
   "execution_count": 6,
   "metadata": {},
   "outputs": [
    {
     "name": "stdout",
     "output_type": "stream",
     "text": [
      "c = 1\n"
     ]
    }
   ],
   "source": [
    "a = 3\n",
    "b = 2 \n",
    "c = a -b \n",
    "print('c =', c)"
   ]
  },
  {
   "cell_type": "markdown",
   "metadata": {},
   "source": []
  },
  {
   "cell_type": "markdown",
   "metadata": {},
   "source": [
    "### Remember that the Cell Type should be **Python** in order to execute the cell. \n",
    "### A cell that has text material is labeled **Markdown**.\n",
    "### A cell that has programs is labeled **Code**  \n",
    "### There are two ways to add a cell. One is in the bar on the top, where there is a `+` button that will add the cell of each type. \n",
    "### The other way is the rectangular box below this cell. This can inseert a cell below."
   ]
  },
  {
   "cell_type": "markdown",
   "metadata": {},
   "source": [
    "## SAVING YOUR WORK. \n",
    "### Visual Studio Code will autosave as you are going to temporary files.  But you need to save your work to the original file.  To do that, \n",
    "### please use File-> Save from the menu. \n",
    "## REVERTING YOUR WORK\n",
    "### Suppose its all gone horribly wrong and you just want to restart everything.  \n",
    "### You can reset the outputs of the jupyter notebook using the \"Clear All Outputs\" menu option under edit. \n",
    "### You can also restart the kernel using the circle button.  \n",
    "### But *most usefully* you can revert to return it to your last good save. \n",
    "### just close the window at the filename, and do not save your work.  \n",
    "### Under the file menu, reload the notebook from disk.  The latter option **removes all your work** since the last save. \n"
   ]
  },
  {
   "cell_type": "markdown",
   "metadata": {},
   "source": [
    "# Create a Class Folder in your Computer\n",
    "### Setup a class folder in a location that you know on your computer, and keep all your files organized there.\n",
    "### Use the Open Folder option in the file menu to point Visual Studio Code to that folder! \n",
    "### Visual Studio will remember where that folder is when you start it again.   "
   ]
  },
  {
   "cell_type": "markdown",
   "metadata": {},
   "source": []
  }
 ],
 "metadata": {
  "celltoolbar": "Slideshow",
  "interpreter": {
   "hash": "fda1d92c402c9d5e0550eab7f590eb1c0582e487619314e6aa12d68c281f0580"
  },
  "kernelspec": {
   "display_name": "Python 3 (ipykernel)",
   "language": "python",
   "name": "python3"
  },
  "language_info": {
   "codemirror_mode": {
    "name": "ipython",
    "version": 3
   },
   "file_extension": ".py",
   "mimetype": "text/x-python",
   "name": "python",
   "nbconvert_exporter": "python",
   "pygments_lexer": "ipython3",
   "version": "3.12.4"
  },
  "rise": {
   "scroll": true
  }
 },
 "nbformat": 4,
 "nbformat_minor": 4
}
