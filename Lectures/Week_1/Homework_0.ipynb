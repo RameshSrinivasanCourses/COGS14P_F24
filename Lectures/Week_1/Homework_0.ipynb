{
 "cells": [
  {
   "cell_type": "markdown",
   "metadata": {},
   "source": [
    "## Problem Set 0.  I know my file system!  \n",
    "\n",
    "### This purpose of this mini-assignment is to verify if you can enter some code, save it, and upload the correct file"
   ]
  },
  {
   "cell_type": "markdown",
   "metadata": {},
   "source": [
    "1. Edit the code in the next block by inserting your name between the parenthesis and execute it\n",
    "### "
   ]
  },
  {
   "cell_type": "code",
   "execution_count": null,
   "metadata": {},
   "outputs": [],
   "source": [
    "my_name = \"\"  # e.g., \"Ramesh\"\n",
    "print(my_name)"
   ]
  },
  {
   "cell_type": "code",
   "execution_count": null,
   "metadata": {},
   "outputs": [],
   "source": [
    "assert my_name != \"Ramesh\"\n",
    "assert my_name != \"\""
   ]
  },
  {
   "cell_type": "markdown",
   "metadata": {},
   "source": [
    "The *assert* statement executes a test to see if your code produced the correct output.  All of assignments will include assert statements to let you check your work.\n",
    "\n",
    "If you try it typing my name instead, it will fail.  \n",
    "If you dont enter any name it will also fail. \n"
   ]
  },
  {
   "cell_type": "markdown",
   "metadata": {},
   "source": [
    "2.  Write a set of code to do a small calculation and test the output\n",
    "\n",
    "        a = 2\n",
    "        b = 3\n",
    "        c = a*b\n",
    "        d = a**b"
   ]
  },
  {
   "cell_type": "code",
   "execution_count": 2,
   "metadata": {},
   "outputs": [],
   "source": [
    "###BEGIN SOLUTION\n",
    "a = 2\n",
    "b = 3\n",
    "c = a*b\n",
    "d = a**b\n",
    "###END SOLUTION"
   ]
  },
  {
   "cell_type": "code",
   "execution_count": 4,
   "metadata": {},
   "outputs": [],
   "source": [
    "assert a == 2\n",
    "assert b == 3\n",
    "assert c == 6\n",
    "assert d == 8"
   ]
  }
 ],
 "metadata": {
  "kernelspec": {
   "display_name": "base",
   "language": "python",
   "name": "python3"
  },
  "language_info": {
   "codemirror_mode": {
    "name": "ipython",
    "version": 3
   },
   "file_extension": ".py",
   "mimetype": "text/x-python",
   "name": "python",
   "nbconvert_exporter": "python",
   "pygments_lexer": "ipython3",
   "version": "3.12.4"
  },
  "orig_nbformat": 4
 },
 "nbformat": 4,
 "nbformat_minor": 2
}
